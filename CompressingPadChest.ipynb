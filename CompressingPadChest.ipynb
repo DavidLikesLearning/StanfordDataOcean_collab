{
 "cells": [
  {
   "cell_type": "code",
   "execution_count": 32,
   "id": "9937ea8f",
   "metadata": {},
   "outputs": [],
   "source": [
    "import os\n",
    "import numpy as np\n",
    "import pandas as pd\n",
    "from PIL import Image"
   ]
  },
  {
   "cell_type": "code",
   "execution_count": 5,
   "id": "50ee2427",
   "metadata": {},
   "outputs": [
    {
     "data": {
      "text/plain": [
       "['.ipynb_checkpoints',\n",
       " '0',\n",
       " 'CompressingPadChest.ipynb',\n",
       " 'Confidentiality Agreement_FlorezRodriguez.pdf',\n",
       " 'Introduction_to_Imaging_FlorezDraft3 (1).ipynb',\n",
       " 'Introduction_to_Imaging_FlorezDraft3 (2).ipynb',\n",
       " 'Introduction_to_Imaging_FlorezDraft3.ipynb',\n",
       " 'Knee_Dataset_Module_09.zip',\n",
       " 'Knee_Joint_Segmentation.ipynb',\n",
       " 'NDA_FlorezRodriguez.pdf',\n",
       " 'PADCHEST_chest_x_ray_images_labels_160K_01.02.19.csv.gz',\n",
       " 'Stanford Data Ocean-early sign up.pdf',\n",
       " 'Stanford Data Ocean-user testing sign up.pdf']"
      ]
     },
     "execution_count": 5,
     "metadata": {},
     "output_type": "execute_result"
    }
   ],
   "source": [
    "[i for i in os.listdir() if 'png' not in i]"
   ]
  },
  {
   "cell_type": "code",
   "execution_count": 6,
   "id": "d72b2882",
   "metadata": {},
   "outputs": [
    {
     "name": "stderr",
     "output_type": "stream",
     "text": [
      "C:\\Users\\DJFRO\\AppData\\Local\\Temp\\ipykernel_12164\\1792448910.py:1: DtypeWarning: Columns (19,20) have mixed types. Specify dtype option on import or set low_memory=False.\n",
      "  pad_df = pd.read_csv([i for i in os.listdir() if 'PAD' in i][0], compression='gzip')\n"
     ]
    }
   ],
   "source": [
    "pad_df = pd.read_csv([i for i in os.listdir() if 'PAD' in i][0], compression='gzip')"
   ]
  },
  {
   "cell_type": "code",
   "execution_count": 25,
   "id": "aa44d3b1",
   "metadata": {},
   "outputs": [
    {
     "name": "stdout",
     "output_type": "stream",
     "text": [
      "1812\n"
     ]
    },
    {
     "name": "stderr",
     "output_type": "stream",
     "text": [
      "C:\\Users\\DJFRO\\AppData\\Local\\Temp\\ipykernel_12164\\3686874972.py:1: UserWarning: Boolean Series key will be reindexed to match DataFrame index.\n",
      "  mydf = pad_df[pad_df['Projection']=='PA'][pad_df['ImageDir']==0]\n"
     ]
    }
   ],
   "source": [
    "mydf = pad_df[pad_df['Projection']=='PA'][pad_df['ImageDir']==0]\n",
    "print(len(mydf))"
   ]
  },
  {
   "cell_type": "code",
   "execution_count": 23,
   "id": "198d51ee",
   "metadata": {},
   "outputs": [
    {
     "name": "stdout",
     "output_type": "stream",
     "text": [
      "3004\n"
     ]
    }
   ],
   "source": [
    "lenDir0 = len(pad_df[pad_df['ImageDir']==0])\n",
    "print(lenDir0)"
   ]
  },
  {
   "cell_type": "code",
   "execution_count": 47,
   "id": "75da5447",
   "metadata": {},
   "outputs": [],
   "source": [
    "N = 87\n",
    "dim = 1200\n",
    "fnames = ['0/'+i for i in mydf['ImageID']]\n",
    "master = np.zeros((N,dim,dim))\n",
    "count = 0\n",
    "while count <N:\n",
    "    fname = fnames[count]\n",
    "    img = Image.open(fname)\n",
    "    img2 = img.resize((dim,dim))\n",
    "    arr = np.asarray(img2, dtype='float16')\n",
    "    master[count] = arr\n",
    "    count+=1\n",
    "np.save('resizedPadChest0.npy',master)"
   ]
  },
  {
   "cell_type": "code",
   "execution_count": 74,
   "id": "9212848e",
   "metadata": {},
   "outputs": [],
   "source": [
    "normalbin = (mydf['Labels'][0:N]==\"['normal']\").values.astype(int)\n",
    "sickbin = normalbin*-1 +1\n",
    "np.save('sickbin.npy',sickbin)"
   ]
  },
  {
   "cell_type": "code",
   "execution_count": 62,
   "id": "d6a4af42",
   "metadata": {},
   "outputs": [
    {
     "data": {
      "text/plain": [
       "0                                            ['normal']\n",
       "2     ['pulmonary fibrosis', 'chronic changes', 'kyp...\n",
       "3                                   ['chronic changes']\n",
       "7     ['laminar atelectasis', 'pleural effusion', 'a...\n",
       "12    ['superior mediastinal enlargement', 'aortic e...\n",
       "14                                           ['normal']\n",
       "15                                           ['normal']\n",
       "Name: Labels, dtype: object"
      ]
     },
     "execution_count": 62,
     "metadata": {},
     "output_type": "execute_result"
    }
   ],
   "source": [
    "mydf['Labels'][0:7]"
   ]
  },
  {
   "cell_type": "code",
   "execution_count": null,
   "id": "4099e33f",
   "metadata": {},
   "outputs": [],
   "source": []
  }
 ],
 "metadata": {
  "kernelspec": {
   "display_name": "Python 3 (ipykernel)",
   "language": "python",
   "name": "python3"
  },
  "language_info": {
   "codemirror_mode": {
    "name": "ipython",
    "version": 3
   },
   "file_extension": ".py",
   "mimetype": "text/x-python",
   "name": "python",
   "nbconvert_exporter": "python",
   "pygments_lexer": "ipython3",
   "version": "3.9.7"
  }
 },
 "nbformat": 4,
 "nbformat_minor": 5
}
