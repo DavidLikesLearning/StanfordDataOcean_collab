{
 "cells": [
  {
   "cell_type": "markdown",
   "id": "b7e60c59",
   "metadata": {},
   "source": [
    "<img src=\"materials/images/introduction-to-imaging-cover.png\"/>"
   ]
  },
  {
   "cell_type": "markdown",
   "id": "499da824",
   "metadata": {
    "id": "499da824"
   },
   "source": [
    "# Why do we need to study medical imaging?\n",
    "Though medical imaging is more than radiology, there is simply a vast shortage of radiologists. The demand for medical imaging increases as the world population ages and raises their quality of live, but the number of radiologists isn't growing to meet that demand. For example, from \"2010 to 2020, the number of Diagnostic Radiology trainees ...increased just 2.5% compared to a 34% increase in the number of adults over 65\" (rsna.org [article](https://https://www.rsna.org/news/2022/may/Global-Radiologist-Shortage)). \n",
    "\n",
    "In short, the radiologists of tomorrow will depend on AI assistance to meet demand for imaging diagnoses. More importantly, the radiologists of today already need a hand. Burnout rates among radiologists are increasing and regions with few or small urban centers are particularly feeling their diagnostic radiology needs unmet (acr.org [article](https://www.acr.org/Practice-Management-Quality-Informatics/ACR-Bulletin/Articles/March-2022/The-Radiology-Labor-Shortage)).\n",
    "\n",
    "# What are the categories?\n",
    "Radiology is but one type of medical imaging, and even then it is a broad field. Radiology includes X-Rays, CT (computed axial tomography), MRI (magnetic resonance imaging), Ultrasound, Fluoroscopy, and more. And beyond radiology, many medical tests include microscopic analysis of blood ans other tissues.\n",
    "\n",
    "# Why is it important?\n",
    "Technology directed at aiding diagnoses and healthcare actions based on medical imaging can improve the quality of medical care. The time efficiency of computers can also lower the costs to this care and make it available to greater numbers of people. Furthermore, the technology necessary for making these impacts is available and the methods for its construction are public knowledge.\n",
    "\n",
    "# What are the major applications? \n",
    "AI/ML methods for medical imaging can speed up response time to patients, improve and standarize accuracy, and enable hospitals in remote regions with limited resources to have their images read.\n"
   ]
  },
  {
   "cell_type": "code",
   "execution_count": 1,
   "id": "c5ab5d33",
   "metadata": {
    "id": "c5ab5d33",
    "outputId": "15ce9854-bd95-4ffa-a449-d21c4badba8b"
   },
   "outputs": [
    {
     "name": "stderr",
     "output_type": "stream",
     "text": [
      "Matplotlib is building the font cache; this may take a moment.\n",
      "2023-01-12 00:52:00.762468: I tensorflow/core/platform/cpu_feature_guard.cc:193] This TensorFlow binary is optimized with oneAPI Deep Neural Network Library (oneDNN) to use the following CPU instructions in performance-critical operations:  AVX2 AVX512F FMA\n",
      "To enable them in other operations, rebuild TensorFlow with the appropriate compiler flags.\n"
     ]
    }
   ],
   "source": [
    "import pandas as pd\n",
    "import numpy as np\n",
    "import os\n",
    "import matplotlib.pyplot as plt\n",
    "from PIL import Image\n",
    "import tensorflow as tf\n",
    "import time\n",
    "from PIL import Image\n",
    "from tensorflow.keras.models import Model\n",
    "from tensorflow.keras.layers import Dense, Flatten, Conv2D\n",
    "from tensorflow.keras.optimizers import Adam\n",
    "from tensorflow.keras.losses import categorical_crossentropy"
   ]
  },
  {
   "cell_type": "markdown",
   "id": "0129f5d4",
   "metadata": {},
   "source": [
    "---"
   ]
  },
  {
   "cell_type": "markdown",
   "id": "06a6a5be",
   "metadata": {
    "id": "06a6a5be"
   },
   "source": [
    "# Load data\n",
    "\n",
    "We're going to load in **CIFAR10**, a massive dataset with low resolution images in 10 categories. It's perfect for learning to build classifying ML models."
   ]
  },
  {
   "cell_type": "code",
   "execution_count": 2,
   "id": "940a524f",
   "metadata": {
    "id": "940a524f"
   },
   "outputs": [
    {
     "name": "stdout",
     "output_type": "stream",
     "text": [
      "Downloading data from https://www.cs.toronto.edu/~kriz/cifar-10-python.tar.gz\n",
      "170498071/170498071 [==============================] - 3s 0us/step\n"
     ]
    }
   ],
   "source": [
    "data = tf.keras.datasets.cifar10.load_data()"
   ]
  },
  {
   "cell_type": "markdown",
   "id": "7fb06f98",
   "metadata": {
    "id": "7fb06f98"
   },
   "source": [
    "The categories are below, they're numbers in the dataset, so let's also keep track of the actual words"
   ]
  },
  {
   "cell_type": "code",
   "execution_count": 3,
   "id": "5b52b539",
   "metadata": {
    "id": "5b52b539"
   },
   "outputs": [],
   "source": [
    "lbls_str = (\"airplane automobile bird cat deer dog frog horse ship truck\")"
   ]
  },
  {
   "cell_type": "code",
   "execution_count": 4,
   "id": "2aca58a2",
   "metadata": {
    "id": "2aca58a2",
    "outputId": "5609809a-dd03-4eaa-d74a-2841d5dd056f"
   },
   "outputs": [
    {
     "data": {
      "text/plain": [
       "['airplane',\n",
       " 'automobile',\n",
       " 'bird',\n",
       " 'cat',\n",
       " 'deer',\n",
       " 'dog',\n",
       " 'frog',\n",
       " 'horse',\n",
       " 'ship',\n",
       " 'truck']"
      ]
     },
     "execution_count": 4,
     "metadata": {},
     "output_type": "execute_result"
    }
   ],
   "source": [
    "lbls_lst = lbls_str.split()\n",
    "lbls_lst"
   ]
  },
  {
   "cell_type": "code",
   "execution_count": 5,
   "id": "19dfc7b0",
   "metadata": {
    "id": "19dfc7b0"
   },
   "outputs": [],
   "source": [
    "(x_train, y_train), (x_test, y_test) = data"
   ]
  },
  {
   "cell_type": "markdown",
   "id": "087ffcad",
   "metadata": {
    "id": "087ffcad"
   },
   "source": [
    "There are 50k training images and 10k testing images, but we'll use only a few thousand so tests can be quick."
   ]
  },
  {
   "cell_type": "code",
   "execution_count": 6,
   "id": "2b374fce",
   "metadata": {
    "id": "2b374fce",
    "outputId": "32d42933-5778-455f-da0f-00289f9e7276"
   },
   "outputs": [
    {
     "name": "stdout",
     "output_type": "stream",
     "text": [
      "(50000, 3, 32, 32)\n",
      "(50000, 1)\n",
      "(10000, 3, 32, 32)\n",
      "(10000, 1)\n"
     ]
    }
   ],
   "source": [
    "for arr in [x_train, y_train, x_test, y_test ]:\n",
    "    print(arr.shape)"
   ]
  },
  {
   "cell_type": "markdown",
   "id": "500965cd",
   "metadata": {
    "id": "500965cd"
   },
   "source": [
    "This histogram is a good idea because the training set's distribution should match the validation set's, and the validation set's should ABSOLUTELY match the test set's.\n",
    "\n",
    "The splicing of the y_train below is a result of trying many different intervals, searching for histograms with more or less equal representation of all classes."
   ]
  },
  {
   "cell_type": "code",
   "execution_count": 7,
   "id": "3927315a",
   "metadata": {
    "id": "3927315a",
    "outputId": "3b22b065-15c9-4f6d-8a33-73591b5affdf"
   },
   "outputs": [
    {
     "data": {
      "image/png": "[encoded data removed]",
      "text/plain": [
       "<Figure size 400x400 with 1 Axes>"
      ]
     },
     "metadata": {},
     "output_type": "display_data"
    },
    {
     "data": {
      "image/png": "[encoded data removed]",
      "text/plain": [
       "<Figure size 400x400 with 1 Axes>"
      ]
     },
     "metadata": {},
     "output_type": "display_data"
    },
    {
     "data": {
      "image/png": "[encoded data removed]",
      "text/plain": [
       "<Figure size 400x400 with 1 Axes>"
      ]
     },
     "metadata": {},
     "output_type": "display_data"
    }
   ],
   "source": [
    "plt.figure(figsize=(4,4));\n",
    "plt.hist(y_train[:15000]);\n",
    "\n",
    "plt.show()\n",
    "plt.figure(figsize=(4,4));\n",
    "plt.hist(y_train[15000:20000]);\n",
    "\n",
    "plt.show()\n",
    "plt.figure(figsize=(4,4));\n",
    "plt.hist(y_train[20000:25000]);\n",
    "\n",
    "plt.show()"
   ]
  },
  {
   "cell_type": "markdown",
   "id": "214d5da4",
   "metadata": {
    "id": "214d5da4"
   },
   "source": [
    "This function will give us one hot vectors from the number corresponding to the classes, we know that  0 = airplane and 3 = cat, but the ML will have a better time if we have one hot vectors like <1,0,0,0,0,0,0,0,0,0> or <0,0,0,1,0,0,0,0,0,0>"
   ]
  },
  {
   "cell_type": "code",
   "execution_count": 8,
   "id": "f9db7dbe",
   "metadata": {
    "id": "f9db7dbe"
   },
   "outputs": [],
   "source": [
    "def one_hot(vec):\n",
    "    n = vec.shape[0]\n",
    "    out = np.zeros((n, np.max(vec)+1))\n",
    "    for i in range(n):\n",
    "        out[i,vec[i][0]]=1\n",
    "    return out"
   ]
  },
  {
   "cell_type": "markdown",
   "id": "ec1c5961",
   "metadata": {
    "id": "ec1c5961"
   },
   "source": [
    "Let's look at an example to learn about `one-hot`."
   ]
  },
  {
   "cell_type": "code",
   "execution_count": 9,
   "id": "34bb947c",
   "metadata": {
    "id": "34bb947c",
    "outputId": "01b8f792-a01f-499f-ca61-b3161f4122bc",
    "scrolled": true
   },
   "outputs": [
    {
     "data": {
      "text/plain": [
       "array([[0., 0., 0., 1., 0., 0.],\n",
       "       [0., 0., 0., 0., 0., 1.],\n",
       "       [0., 0., 0., 1., 0., 0.],\n",
       "       [1., 0., 0., 0., 0., 0.],\n",
       "       [0., 0., 1., 0., 0., 0.],\n",
       "       [0., 1., 0., 0., 0., 0.]])"
      ]
     },
     "execution_count": 9,
     "metadata": {},
     "output_type": "execute_result"
    }
   ],
   "source": [
    "one_hot(np.array([[3],[5],[3],[0],[2],[1]]))"
   ]
  },
  {
   "cell_type": "markdown",
   "id": "ec92a46c",
   "metadata": {
    "id": "ec92a46c"
   },
   "source": [
    "Using the intervals from earlier, we'll define a training, validation and testing set. We'll translate this short array of indices (3,5,3,0,2,1) into a one hot matrix where the position of the '1' in each row communicates its index."
   ]
  },
  {
   "cell_type": "code",
   "execution_count": 10,
   "id": "67249463",
   "metadata": {
    "id": "67249463",
    "outputId": "e7eca768-91ba-4dba-b021-1ae85098fc6c"
   },
   "outputs": [],
   "source": [
    "xtr, xval, xtst = (np.transpose(x_train[:2000], (0,2,3,1)),\n",
    "                   np.transpose(x_train[4500:5500], (0,2,3,1)),\n",
    "                   np.transpose(x_train[5500:6500], (0,2,3,1)))\n",
    "ytr, yval, ytst = y_train[:2000],y_train[4500:5500],y_train[5500:6500]"
   ]
  },
  {
   "cell_type": "code",
   "execution_count": 11,
   "id": "7c086c12",
   "metadata": {},
   "outputs": [
    {
     "name": "stdout",
     "output_type": "stream",
     "text": [
      "(2000, 32, 32, 3) (2000, 1)\n"
     ]
    },
    {
     "data": {
      "image/png": "[encoded data removed]",
      "text/plain": [
       "<Figure size 300x300 with 1 Axes>"
      ]
     },
     "metadata": {},
     "output_type": "display_data"
    },
    {
     "name": "stdout",
     "output_type": "stream",
     "text": [
      "frog\n",
      "(1000, 32, 32, 3) (1000, 1)\n"
     ]
    },
    {
     "data": {
      "image/png": "[encoded data removed]",
      "text/plain": [
       "<Figure size 300x300 with 1 Axes>"
      ]
     },
     "metadata": {},
     "output_type": "display_data"
    },
    {
     "name": "stdout",
     "output_type": "stream",
     "text": [
      "dog\n",
      "(1000, 32, 32, 3) (1000, 1)\n"
     ]
    },
    {
     "data": {
      "image/png": "[encoded data removed]",
      "text/plain": [
       "<Figure size 300x300 with 1 Axes>"
      ]
     },
     "metadata": {},
     "output_type": "display_data"
    },
    {
     "name": "stdout",
     "output_type": "stream",
     "text": [
      "truck\n"
     ]
    }
   ],
   "source": [
    "for k in [(xtr,ytr),(xval,yval),(xtst,ytst)]:\n",
    "    print(k[0].shape,k[1].shape)\n",
    "    im = np.random.randint(0,500)\n",
    "    #NOTE THAT THE IMAGES ARE 32 BY 32 BY 3 ARRAYS\n",
    "    plt.figure(figsize=(3,3))\n",
    "    plt.imshow(k[0][im])\n",
    "    plt.show()\n",
    "    print(lbls_lst[k[1][im][0]])"
   ]
  },
  {
   "cell_type": "markdown",
   "id": "214d015c",
   "metadata": {
    "id": "214d015c"
   },
   "source": [
    "It's always a good idea to save your work."
   ]
  },
  {
   "cell_type": "markdown",
   "id": "0e348383",
   "metadata": {},
   "source": [
    "Note that there are validation and test sets: \n",
    "\n",
    "**Validation sets** are used to have your trained model predict on, and thus get an idea for its performance on 'unseen data' (data that the model didn't train on). This way, validation sets and their respective accuracy guide one's selection of hyperparameters and architectures. \n",
    "\n",
    "**Test sets** are never touched until the very end to give a final estimate of your model's performance on unseen data."
   ]
  },
  {
   "cell_type": "code",
   "execution_count": 12,
   "id": "d14d9911",
   "metadata": {
    "id": "d14d9911"
   },
   "outputs": [],
   "source": [
    "vtr,vval,vtst = one_hot(ytr),one_hot(yval),one_hot(ytst)\n",
    "np.save('xtr',xtr)\n",
    "np.save('vtr',vtr)\n",
    "np.save('xval',xval)\n",
    "np.save('vval',vval)\n",
    "np.save('xtst',xtst)\n",
    "np.save('vtst',vtst)"
   ]
  },
  {
   "cell_type": "markdown",
   "id": "6e2c609f",
   "metadata": {},
   "source": [
    "---"
   ]
  },
  {
   "cell_type": "markdown",
   "id": "ca3c44f3",
   "metadata": {
    "id": "ca3c44f3"
   },
   "source": [
    "## Let's build some AI models with this data"
   ]
  },
  {
   "cell_type": "code",
   "execution_count": 13,
   "id": "6b3defc6",
   "metadata": {
    "id": "6b3defc6",
    "outputId": "4811b1f0-bd3d-4b28-9630-5714b5917225"
   },
   "outputs": [
    {
     "name": "stdout",
     "output_type": "stream",
     "text": [
      "our whole training data has shape:  (2000, 32, 32, 3)\n",
      "\n",
      "and our training set of labels haa shape:  (2000, 10)\n"
     ]
    }
   ],
   "source": [
    "print('our whole training data has shape: ',xtr.shape)\n",
    "print('\\nand our training set of labels haa shape: ',vtr.shape)"
   ]
  },
  {
   "cell_type": "markdown",
   "id": "81016fb8",
   "metadata": {
    "id": "81016fb8"
   },
   "source": [
    "We can start with a basic neural net, a function will help so we can make the AI model whenever and we don't have to copy code"
   ]
  },
  {
   "cell_type": "code",
   "execution_count": 14,
   "id": "27b8a0ef",
   "metadata": {
    "id": "27b8a0ef"
   },
   "outputs": [],
   "source": [
    "def generate_basic_model(input_shape = xtr[0].shape):\n",
    "    \n",
    "    input_tensor = tf.keras.Input(shape=input_shape )\n",
    "    #keras likes tensors\n",
    "    #BTW A TENSOR IS ANY ARRAY AND OFTEN REFERS TO ARRAYS WITH MORE THAN 2 AXES \n",
    "    #e.g.:  rows, columns, color channels (RGB)\n",
    "    #vectors are groups of number, matrices are groups of vectors, \n",
    "    #tensors are groups of matrices (or other tensors)\n",
    "    #there's no need to be afraid of tensors\n",
    "  \n",
    "    flat= Flatten()(input_tensor)\n",
    "    #neural nets like flat input, notice how the result of one line \n",
    "    #is the input to the next\n",
    "    \n",
    "    FC1 = Dense(64, activation = 'relu', \n",
    "                    kernel_regularizer = tf.keras.regularizers.L2(1e-2))(flat)\n",
    "    #cool kids use regularization\n",
    "    #regularization helps prevent overfitting\n",
    "    \n",
    "    # Note that the relu activation function is often used. It has been the\n",
    "    # bread and butter of machine learning projects for years.\n",
    "\n",
    "    FC2 = Dense(32, activation = 'relu', \n",
    "                    kernel_regularizer = tf.keras.regularizers.L2(1e-2))(FC1) \n",
    "\n",
    "    FC3 = Dense(16, activation = 'relu', \n",
    "                    kernel_regularizer = tf.keras.regularizers.L2(1e-2))(FC2) \n",
    "    \n",
    "    predictions = Dense(10, activation = 'softmax', \n",
    "                        kernel_regularizer = tf.keras.regularizers.L2(1e-2))(FC3)\n",
    "    \n",
    "    # Note that the softmax activation function is added at the end. This \n",
    "    # is a function that turns an array of values into a group of probabilities.\n",
    "    # In this way, it's very useful for single class categorization tasks.\n",
    "    \n",
    "    \n",
    "    #connect model\n",
    "    model = Model(inputs=input_tensor,outputs=predictions)\n",
    "    #run\n",
    "    model.compile(loss= categorical_crossentropy,\n",
    "                  optimizer=Adam(learning_rate=1e-1),\n",
    "                  metrics=['accuracy'])\n",
    "    \n",
    "    model.summary()\n",
    "    return model"
   ]
  },
  {
   "cell_type": "code",
   "execution_count": 15,
   "id": "79b1c506",
   "metadata": {
    "id": "79b1c506",
    "outputId": "3e3b2403-c0a6-4f7d-9037-cd05f7456e18",
    "scrolled": true
   },
   "outputs": [
    {
     "name": "stdout",
     "output_type": "stream",
     "text": [
      "Model: \"model\"\n",
      "_________________________________________________________________\n",
      " Layer (type)                Output Shape              Param #   \n",
      "=================================================================\n",
      " input_1 (InputLayer)        [(None, 32, 32, 3)]       0         \n",
      "                                                                 \n",
      " flatten (Flatten)           (None, 3072)              0         \n",
      "                                                                 \n",
      " dense (Dense)               (None, 64)                196672    \n",
      "                                                                 \n",
      " dense_1 (Dense)             (None, 32)                2080      \n",
      "                                                                 \n",
      " dense_2 (Dense)             (None, 16)                528       \n",
      "                                                                 \n",
      " dense_3 (Dense)             (None, 10)                170       \n",
      "                                                                 \n",
      "=================================================================\n",
      "Total params: 199,450\n",
      "Trainable params: 199,450\n",
      "Non-trainable params: 0\n",
      "_________________________________________________________________\n"
     ]
    },
    {
     "name": "stderr",
     "output_type": "stream",
     "text": [
      "2023-01-12 00:52:29.608942: E tensorflow/compiler/xla/stream_executor/cuda/cuda_driver.cc:267] failed call to cuInit: CUDA_ERROR_NO_DEVICE: no CUDA-capable device is detected\n",
      "2023-01-12 00:52:29.609009: I tensorflow/compiler/xla/stream_executor/cuda/cuda_diagnostics.cc:156] kernel driver does not appear to be running on this host (ip-10-10-121-102.ec2.internal): /proc/driver/nvidia/version does not exist\n",
      "2023-01-12 00:52:29.610112: I tensorflow/core/platform/cpu_feature_guard.cc:193] This TensorFlow binary is optimized with oneAPI Deep Neural Network Library (oneDNN) to use the following CPU instructions in performance-critical operations:  AVX2 AVX512F FMA\n",
      "To enable them in other operations, rebuild TensorFlow with the appropriate compiler flags.\n"
     ]
    }
   ],
   "source": [
    "basicAI = generate_basic_model()"
   ]
  },
  {
   "cell_type": "markdown",
   "id": "7b4175c9",
   "metadata": {
    "id": "7b4175c9"
   },
   "source": [
    "You just made an AI model! Now let's train it.\n",
    "\n",
    "Note that we use the variables `vtr` and `vval` for the labels. This is because the y values came as scalars."
   ]
  },
  {
   "cell_type": "code",
   "execution_count": 16,
   "id": "d1cc48f0",
   "metadata": {
    "id": "d1cc48f0",
    "outputId": "baa26bb1-5888-4a5c-db5a-270535eb0b9c"
   },
   "outputs": [
    {
     "name": "stdout",
     "output_type": "stream",
     "text": [
      "Epoch 1/15\n",
      "63/63 [==============================] - 1s 10ms/step - loss: 2768.6516 - accuracy: 0.0930 - val_loss: 431.5963 - val_accuracy: 0.1130\n",
      "Epoch 2/15\n",
      "63/63 [==============================] - 0s 7ms/step - loss: 370.0248 - accuracy: 0.0975 - val_loss: 313.7627 - val_accuracy: 0.0900\n",
      "Epoch 3/15\n",
      "63/63 [==============================] - 0s 8ms/step - loss: 272.1327 - accuracy: 0.1010 - val_loss: 232.9991 - val_accuracy: 0.1130\n",
      "Epoch 4/15\n",
      "63/63 [==============================] - 0s 8ms/step - loss: 202.6474 - accuracy: 0.0995 - val_loss: 173.9040 - val_accuracy: 0.0900\n",
      "Epoch 5/15\n",
      "63/63 [==============================] - 0s 6ms/step - loss: 151.5770 - accuracy: 0.1025 - val_loss: 130.4492 - val_accuracy: 0.0930\n",
      "Epoch 6/15\n",
      "63/63 [==============================] - 0s 8ms/step - loss: 113.9988 - accuracy: 0.1060 - val_loss: 98.4300 - val_accuracy: 0.1090\n",
      "Epoch 7/15\n",
      "63/63 [==============================] - 0s 8ms/step - loss: 86.3217 - accuracy: 0.0855 - val_loss: 74.8320 - val_accuracy: 0.0930\n",
      "Epoch 8/15\n",
      "63/63 [==============================] - 0s 7ms/step - loss: 65.8611 - accuracy: 0.0895 - val_loss: 57.3460 - val_accuracy: 0.0900\n",
      "Epoch 9/15\n",
      "63/63 [==============================] - 0s 6ms/step - loss: 50.6492 - accuracy: 0.1030 - val_loss: 44.2754 - val_accuracy: 0.0900\n",
      "Epoch 10/15\n",
      "63/63 [==============================] - 0s 6ms/step - loss: 39.2549 - accuracy: 0.1005 - val_loss: 34.4573 - val_accuracy: 0.1070\n",
      "Epoch 11/15\n",
      "63/63 [==============================] - 0s 8ms/step - loss: 30.6732 - accuracy: 0.1005 - val_loss: 27.0438 - val_accuracy: 0.1090\n",
      "Epoch 12/15\n",
      "63/63 [==============================] - 0s 8ms/step - loss: 24.1860 - accuracy: 0.1005 - val_loss: 21.4420 - val_accuracy: 0.0900\n",
      "Epoch 13/15\n",
      "63/63 [==============================] - 0s 7ms/step - loss: 19.2663 - accuracy: 0.0980 - val_loss: 17.1948 - val_accuracy: 0.0900\n",
      "Epoch 14/15\n",
      "63/63 [==============================] - 0s 8ms/step - loss: 15.5412 - accuracy: 0.0960 - val_loss: 13.9498 - val_accuracy: 0.1130\n",
      "Epoch 15/15\n",
      "63/63 [==============================] - 0s 7ms/step - loss: 12.7080 - accuracy: 0.0985 - val_loss: 11.5053 - val_accuracy: 0.0900\n"
     ]
    },
    {
     "data": {
      "text/plain": [
       "<keras.callbacks.History at 0x7fa8599e4580>"
      ]
     },
     "execution_count": 16,
     "metadata": {},
     "output_type": "execute_result"
    }
   ],
   "source": [
    "basicAI.fit(xtr, vtr, validation_data = (xval,vval), epochs = 15)"
   ]
  },
  {
   "cell_type": "markdown",
   "id": "0e7c8886",
   "metadata": {
    "id": "0e7c8886"
   },
   "source": [
    "Now, let's try and predict an image's category (though accuracy is little better than chance).\n",
    "Each row contains the confidence of the model in the sample being a member of a category; for example, all samples have a .1 = 10% confidence for being members of category at index 1, which is 'automobile'. "
   ]
  },
  {
   "cell_type": "code",
   "execution_count": 17,
   "id": "5cc71a84",
   "metadata": {
    "id": "5cc71a84",
    "outputId": "c27b4646-6c5c-46e7-99ec-4a2131a279b4",
    "scrolled": true
   },
   "outputs": [
    {
     "name": "stdout",
     "output_type": "stream",
     "text": [
      "1/1 [==============================] - 0s 84ms/step\n"
     ]
    },
    {
     "data": {
      "text/plain": [
       "(array([[0.09, 0.1 , 0.11, 0.09, 0.11, 0.09, 0.1 , 0.09, 0.1 , 0.11],\n",
       "        [0.09, 0.1 , 0.11, 0.09, 0.11, 0.09, 0.1 , 0.09, 0.1 , 0.11],\n",
       "        [0.09, 0.1 , 0.11, 0.09, 0.11, 0.09, 0.1 , 0.09, 0.1 , 0.11],\n",
       "        [0.09, 0.1 , 0.11, 0.09, 0.11, 0.09, 0.1 , 0.09, 0.1 , 0.11],\n",
       "        [0.09, 0.1 , 0.11, 0.09, 0.11, 0.09, 0.1 , 0.09, 0.1 , 0.11]],\n",
       "       dtype=float32),\n",
       " array([[0., 0., 0., 0., 0., 0., 1., 0., 0., 0.],\n",
       "        [0., 0., 1., 0., 0., 0., 0., 0., 0., 0.],\n",
       "        [0., 0., 0., 0., 0., 0., 0., 0., 1., 0.],\n",
       "        [0., 0., 0., 0., 0., 1., 0., 0., 0., 0.],\n",
       "        [0., 0., 0., 0., 0., 0., 0., 1., 0., 0.]]))"
      ]
     },
     "execution_count": 17,
     "metadata": {},
     "output_type": "execute_result"
    }
   ],
   "source": [
    "np.round(basicAI.predict(xval[305:310,:,:,:]),2),vval[305:310]"
   ]
  },
  {
   "cell_type": "code",
   "execution_count": 18,
   "id": "84ef5639",
   "metadata": {},
   "outputs": [
    {
     "data": {
      "text/plain": [
       "(32, 32, 3)"
      ]
     },
     "execution_count": 18,
     "metadata": {},
     "output_type": "execute_result"
    }
   ],
   "source": [
    "xtr[0].shape"
   ]
  },
  {
   "cell_type": "markdown",
   "id": "1753fcaa",
   "metadata": {
    "id": "1753fcaa"
   },
   "source": [
    "We might not be able to publish this model in Nature...\n",
    "\n",
    "Let's try a convolutional neural network.\n",
    "\n",
    "Note that errors can often be hard parts of getting started with the major machine learning libraries. It's okay. Looking up errors on Google or sites like stack overflow can provide fantastic responses, and the sites housing the libraries in question are also great (https://www.tensorflow.org/)"
   ]
  },
  {
   "cell_type": "code",
   "execution_count": 19,
   "id": "cbcca12e",
   "metadata": {
    "id": "cbcca12e"
   },
   "outputs": [],
   "source": [
    "def generate_conv_model(input_shape = xtr[0].shape):\n",
    "    \n",
    "    input_tensor = tf.keras.Input(shape=input_shape )\n",
    "    \n",
    "    #the kernel size will be set to 2 by 2 pixels\n",
    "    #the 4, 8, and 12 in the next layers are the channels future layers will have\n",
    "    #for example, the first layer here will make 4 convolutional filters that will \n",
    "    \n",
    "    REG = 1e-2\n",
    "    LR = 3e-1\n",
    "    \n",
    "    c1 = Conv2D(8, kernel_size=(2, 2),\n",
    "               \n",
    "                activation='relu', \n",
    "                data_format= 'channels_last',\n",
    "                input_shape=input_shape,\n",
    "                kernel_regularizer = tf.keras.regularizers.L2(REG))(input_tensor) \n",
    "    c2 = Conv2D(16, kernel_size=(2, 2),\n",
    "                \n",
    "                activation='relu', \n",
    "                data_format= 'channels_last',\n",
    "                kernel_regularizer = tf.keras.regularizers.L2(REG))(c1)\n",
    "    c3 = Conv2D(32, kernel_size=(2, 2),\n",
    "               \n",
    "                activation='relu', \n",
    "                data_format= 'channels_last',\n",
    "                kernel_regularizer = tf.keras.regularizers.L2(REG))(c2)\n",
    "    \n",
    "    mp1 = tf.keras.layers.MaxPool2D(data_format= 'channels_last',)(c3)\n",
    "    # max pooling layers can help convolutional models\n",
    "    \n",
    "    c4 = Conv2D(8, kernel_size=(2, 2),\n",
    "                activation='relu',\n",
    "                data_format= 'channels_last',\n",
    "                input_shape=input_shape,\n",
    "                kernel_regularizer = tf.keras.regularizers.L2(REG))(mp1) \n",
    "    c5 = Conv2D(16, kernel_size=(2, 2),\n",
    "                activation='relu', \n",
    "                data_format= 'channels_last',\n",
    "                kernel_regularizer = tf.keras.regularizers.L2(REG))(c4)\n",
    "    c6 = Conv2D(32, kernel_size=(2, 2), \n",
    "                activation='relu', \n",
    "                data_format= 'channels_last',\n",
    "                kernel_regularizer = tf.keras.regularizers.L2(REG))(c5)\n",
    "    \n",
    "    mp2 = tf.keras.layers.MaxPool2D(data_format= 'channels_last',)(c6)\n",
    "  \n",
    "    flat= Flatten()(mp2) #was mp2\n",
    "\n",
    "    \n",
    "    FC1 = Dense(64, activation = 'relu', \n",
    "                    kernel_regularizer = tf.keras.regularizers.L2(REG))(flat)\n",
    "\n",
    "    FC2 = Dense(32, activation = 'relu', \n",
    "                    kernel_regularizer = tf.keras.regularizers.L2(REG))(FC1) \n",
    "\n",
    "    FC3 = Dense(16, activation = 'relu', \n",
    "                    kernel_regularizer = tf.keras.regularizers.L2(REG))(FC2) \n",
    "    \n",
    "    predictions = Dense(10, activation = 'softmax', \n",
    "                        kernel_regularizer = tf.keras.regularizers.L2(REG))(FC3)\n",
    "    #connect model\n",
    "    model = Model(inputs=input_tensor,outputs=predictions)\n",
    "    #run\n",
    "    model.compile(loss= categorical_crossentropy,\n",
    "                  optimizer=Adam(learning_rate=LR),\n",
    "                  metrics=['accuracy'])\n",
    "    \n",
    "    model.summary()\n",
    "    return model"
   ]
  },
  {
   "cell_type": "code",
   "execution_count": 20,
   "id": "f377efc5",
   "metadata": {
    "id": "f377efc5",
    "outputId": "4bcfa3ae-ba43-45b9-972c-766cfb17237b"
   },
   "outputs": [
    {
     "name": "stdout",
     "output_type": "stream",
     "text": [
      "Model: \"model_1\"\n",
      "_________________________________________________________________\n",
      " Layer (type)                Output Shape              Param #   \n",
      "=================================================================\n",
      " input_2 (InputLayer)        [(None, 32, 32, 3)]       0         \n",
      "                                                                 \n",
      " conv2d (Conv2D)             (None, 31, 31, 8)         104       \n",
      "                                                                 \n",
      " conv2d_1 (Conv2D)           (None, 30, 30, 16)        528       \n",
      "                                                                 \n",
      " conv2d_2 (Conv2D)           (None, 29, 29, 32)        2080      \n",
      "                                                                 \n",
      " max_pooling2d (MaxPooling2D  (None, 14, 14, 32)       0         \n",
      " )                                                               \n",
      "                                                                 \n",
      " conv2d_3 (Conv2D)           (None, 13, 13, 8)         1032      \n",
      "                                                                 \n",
      " conv2d_4 (Conv2D)           (None, 12, 12, 16)        528       \n",
      "                                                                 \n",
      " conv2d_5 (Conv2D)           (None, 11, 11, 32)        2080      \n",
      "                                                                 \n",
      " max_pooling2d_1 (MaxPooling  (None, 5, 5, 32)         0         \n",
      " 2D)                                                             \n",
      "                                                                 \n",
      " flatten_1 (Flatten)         (None, 800)               0         \n",
      "                                                                 \n",
      " dense_4 (Dense)             (None, 64)                51264     \n",
      "                                                                 \n",
      " dense_5 (Dense)             (None, 32)                2080      \n",
      "                                                                 \n",
      " dense_6 (Dense)             (None, 16)                528       \n",
      "                                                                 \n",
      " dense_7 (Dense)             (None, 10)                170       \n",
      "                                                                 \n",
      "=================================================================\n",
      "Total params: 60,394\n",
      "Trainable params: 60,394\n",
      "Non-trainable params: 0\n",
      "_________________________________________________________________\n"
     ]
    }
   ],
   "source": [
    "convAI = generate_conv_model()"
   ]
  },
  {
   "cell_type": "code",
   "execution_count": 21,
   "id": "2f87c77d",
   "metadata": {
    "id": "2f87c77d",
    "outputId": "d9e7dd6d-264f-4f40-f031-b29eb758c831"
   },
   "outputs": [
    {
     "name": "stdout",
     "output_type": "stream",
     "text": [
      "Epoch 1/10\n",
      "63/63 [==============================] - 5s 53ms/step - loss: 295555.6250 - accuracy: 0.1015 - val_loss: 378.9593 - val_accuracy: 0.1130\n",
      "Epoch 2/10\n",
      "63/63 [==============================] - 3s 51ms/step - loss: 384.8169 - accuracy: 0.0925 - val_loss: 325.1529 - val_accuracy: 0.0980\n",
      "Epoch 3/10\n",
      "63/63 [==============================] - 3s 50ms/step - loss: 312.4578 - accuracy: 0.1040 - val_loss: 302.6685 - val_accuracy: 0.0900\n",
      "Epoch 4/10\n",
      "63/63 [==============================] - 3s 50ms/step - loss: 296.2840 - accuracy: 0.0945 - val_loss: 290.3168 - val_accuracy: 0.0930\n",
      "Epoch 5/10\n",
      "63/63 [==============================] - 3s 49ms/step - loss: 285.5946 - accuracy: 0.1040 - val_loss: 281.0356 - val_accuracy: 0.0980\n",
      "Epoch 6/10\n",
      "63/63 [==============================] - 3s 53ms/step - loss: 277.2037 - accuracy: 0.1065 - val_loss: 273.4329 - val_accuracy: 0.0900\n",
      "Epoch 7/10\n",
      "63/63 [==============================] - 3s 50ms/step - loss: 270.2299 - accuracy: 0.0960 - val_loss: 267.0193 - val_accuracy: 0.0950\n",
      "Epoch 8/10\n",
      "63/63 [==============================] - 3s 50ms/step - loss: 264.2526 - accuracy: 0.0990 - val_loss: 261.4791 - val_accuracy: 0.1130\n",
      "Epoch 9/10\n",
      "63/63 [==============================] - 3s 50ms/step - loss: 259.0525 - accuracy: 0.0990 - val_loss: 256.6028 - val_accuracy: 0.0950\n",
      "Epoch 10/10\n",
      "63/63 [==============================] - 3s 50ms/step - loss: 254.4420 - accuracy: 0.0955 - val_loss: 252.2396 - val_accuracy: 0.1120\n"
     ]
    }
   ],
   "source": [
    "record = convAI.fit(xtr, vtr, validation_data = (xval,vval), epochs = 10)"
   ]
  },
  {
   "cell_type": "markdown",
   "id": "1513102f",
   "metadata": {
    "id": "1513102f"
   },
   "source": [
    "This model also isn't fantastic. That's OK, though, testing architectures and hyperparameters is a natural step in ML/AI.\n",
    "\n",
    "Let's explore the output of the `fit` function which we stored in the `record` variable."
   ]
  },
  {
   "cell_type": "code",
   "execution_count": 22,
   "id": "9fae1cf1",
   "metadata": {
    "id": "9fae1cf1",
    "outputId": "e1df52c2-2bdb-4269-e48f-5e9fb5311d1f",
    "scrolled": true
   },
   "outputs": [
    {
     "data": {
      "text/plain": [
       "{'loss': [295555.625,\n",
       "  384.81689453125,\n",
       "  312.45782470703125,\n",
       "  296.2840270996094,\n",
       "  285.5946350097656,\n",
       "  277.20367431640625,\n",
       "  270.22991943359375,\n",
       "  264.25262451171875,\n",
       "  259.0525207519531,\n",
       "  254.4420166015625],\n",
       " 'accuracy': [0.1014999970793724,\n",
       "  0.0925000011920929,\n",
       "  0.10400000214576721,\n",
       "  0.09449999779462814,\n",
       "  0.10400000214576721,\n",
       "  0.10649999976158142,\n",
       "  0.09600000083446503,\n",
       "  0.0989999994635582,\n",
       "  0.0989999994635582,\n",
       "  0.09549999982118607],\n",
       " 'val_loss': [378.9593200683594,\n",
       "  325.15289306640625,\n",
       "  302.6684875488281,\n",
       "  290.3167724609375,\n",
       "  281.0355529785156,\n",
       "  273.43292236328125,\n",
       "  267.0192565917969,\n",
       "  261.4791259765625,\n",
       "  256.6028137207031,\n",
       "  252.23959350585938],\n",
       " 'val_accuracy': [0.11299999803304672,\n",
       "  0.09799999743700027,\n",
       "  0.09000000357627869,\n",
       "  0.09300000220537186,\n",
       "  0.09799999743700027,\n",
       "  0.09000000357627869,\n",
       "  0.0949999988079071,\n",
       "  0.11299999803304672,\n",
       "  0.0949999988079071,\n",
       "  0.1120000034570694]}"
      ]
     },
     "execution_count": 22,
     "metadata": {},
     "output_type": "execute_result"
    }
   ],
   "source": [
    "record.history"
   ]
  },
  {
   "cell_type": "code",
   "execution_count": 23,
   "id": "764b3477",
   "metadata": {
    "id": "764b3477",
    "outputId": "091765ec-55d3-444a-92ad-4099d165ee93"
   },
   "outputs": [
    {
     "data": {
      "image/png": "[encoded data removed]",
      "text/plain": [
       "<Figure size 640x480 with 1 Axes>"
      ]
     },
     "metadata": {},
     "output_type": "display_data"
    },
    {
     "data": {
      "text/plain": [
       "Text(0, 0.5, 'Accuracy (decimal)')"
      ]
     },
     "execution_count": 23,
     "metadata": {},
     "output_type": "execute_result"
    },
    {
     "data": {
      "image/png": "[encoded data removed]",
      "text/plain": [
       "<Figure size 640x480 with 1 Axes>"
      ]
     },
     "metadata": {},
     "output_type": "display_data"
    }
   ],
   "source": [
    "plt.plot(record.history['val_loss'])\n",
    "plt.plot(record.history['loss'])\n",
    "plt.title('Training Progress')\n",
    "plt.xlabel('Epochs (indexed at 0)')\n",
    "plt.ylabel('Loss')\n",
    "plt.legend(['val','train'])\n",
    "plt.show()\n",
    "#note that we will select good models based on the performance on the \n",
    "#validation set\n",
    "\n",
    "plt.plot(record.history['val_accuracy'])\n",
    "plt.plot(record.history['accuracy'])\n",
    "plt.legend(['val','train'])\n",
    "plt.title('Training Progress')\n",
    "plt.xlabel('Epochs (indexed at 0)')\n",
    "plt.ylabel('Accuracy (decimal)')"
   ]
  },
  {
   "cell_type": "code",
   "execution_count": 24,
   "id": "9cd0164a",
   "metadata": {
    "id": "9cd0164a"
   },
   "outputs": [],
   "source": [
    "def gen_model(lr =  1e-3, r = 1, input_shape = xtr[0].shape, \n",
    "              filter_size =3, fc_lst = [400,400,200], s = False):\n",
    "    input_tensor = tf.keras.Input(shape=input_shape )\n",
    "    \"\"\"\n",
    "    THIS ARCHITECTURE WAS INSPIRED BY VGG16 \n",
    "    \n",
    "    lr refers to learning rate\n",
    "    r referes to L2 regularization rate \n",
    "    filter_size is used for vertical and horizontal dimension of all\n",
    "        convolutional kernels in this model\n",
    "    fc_lst defines the layers and cells following the convolutional \n",
    "        segment. For example, fc_lst = [400,200,100] will add three\n",
    "        neural netowrk layers at the end of the model where the first\n",
    "        has 400 cells and the last has 100 cells. \n",
    "        The final layer will always automatically have 10 cells for\n",
    "        prediction and fc_lst must be a list of two or more numbers\n",
    "    s takes a boolean deciding whether to print a keras summary\n",
    "        of the model generated\n",
    "    \n",
    "    \"\"\"\n",
    "    c1 = Conv2D(8, kernel_size=(filter_size, filter_size), \n",
    "                padding='same',\n",
    "                activation='relu', \n",
    "                data_format= 'channels_last',\n",
    "                input_shape=input_shape,\n",
    "                kernel_regularizer = tf.keras.regularizers.L2(r))(input_tensor) \n",
    "    c2 = Conv2D(8, kernel_size=(filter_size, filter_size),\n",
    "                 padding='same',\n",
    "                activation='relu', \n",
    "                data_format= 'channels_last',\n",
    "                kernel_regularizer = tf.keras.regularizers.L2(r))(c1)\n",
    "    c3 = Conv2D(8, kernel_size=(filter_size, filter_size), \n",
    "                 padding='same',\n",
    "                activation='relu',\n",
    "                data_format= 'channels_last',\n",
    "                kernel_regularizer = tf.keras.regularizers.L2(r))(c2)\n",
    "    l1 = tf.keras.layers.LayerNormalization()(c3)\n",
    "    c4 = Conv2D(16, kernel_size=(filter_size, filter_size), \n",
    "                activation='relu',\n",
    "                 padding='same',\n",
    "                data_format= 'channels_last',\n",
    "                input_shape=input_shape,\n",
    "                kernel_regularizer = tf.keras.regularizers.L2(r))(l1) \n",
    "    c5 = Conv2D(16, kernel_size=(filter_size, filter_size),\n",
    "                activation='relu',\n",
    "                 padding='same',\n",
    "                data_format= 'channels_last',\n",
    "                kernel_regularizer = tf.keras.regularizers.L2(r))(c4)\n",
    "    c6 = Conv2D(16, kernel_size=(filter_size, filter_size), \n",
    "                activation='relu',\n",
    "                 padding='same',\n",
    "                data_format= 'channels_last',\n",
    "                kernel_regularizer = tf.keras.regularizers.L2(r))(c5)\n",
    "    mp2 = tf.keras.layers.MaxPool2D(data_format= 'channels_last',)(c6)\n",
    "    l2 = tf.keras.layers.LayerNormalization()(mp2)\n",
    "    c7 = Conv2D(32, kernel_size=(filter_size, filter_size),\n",
    "                activation='relu',\n",
    "                data_format= 'channels_last',\n",
    "                input_shape=input_shape,\n",
    "                kernel_regularizer = tf.keras.regularizers.L2(r))(l2) \n",
    "    c8 = Conv2D(32, kernel_size=(filter_size, filter_size),\n",
    "                activation='relu',\n",
    "                data_format= 'channels_last',\n",
    "                kernel_regularizer = tf.keras.regularizers.L2(r))(c7)\n",
    "    c9 = Conv2D(32, kernel_size=(filter_size, filter_size), \n",
    "                activation='relu',\n",
    "                data_format= 'channels_last',\n",
    "                kernel_regularizer = tf.keras.regularizers.L2(r))(c8)\n",
    "    mp3 = tf.keras.layers.MaxPool2D(data_format= 'channels_last',)(c9)\n",
    "    l2 = tf.keras.layers.LayerNormalization()(mp3)\n",
    "    ## FC ## FC ## FC ## FC ## FC ## FC ## FC ## FC ## FC ## FC ## FC ##\n",
    "    flat= Flatten()(l2)\n",
    "    for fc_dim in fc_lst[:-1]:\n",
    "        FC = Dense(fc_dim, activation = 'relu',\n",
    "                    kernel_regularizer = tf.keras.regularizers.L2(r))(flat)\n",
    "        flat = tf.keras.layers.LayerNormalization()(FC)\n",
    "    flat = Dense(fc_lst[-1], activation = 'relu',\n",
    "                    kernel_regularizer = tf.keras.regularizers.L2(r))(flat)    \n",
    "    predictions = Dense(10, activation = 'softmax', \n",
    "                        kernel_regularizer = tf.keras.regularizers.L2(r))(flat)\n",
    "    #connect model\n",
    "    model = Model(inputs=input_tensor,outputs=predictions)\n",
    "    #run\n",
    "    model.compile(loss= categorical_crossentropy,\n",
    "                  optimizer=Adam(learning_rate=lr),\n",
    "                  metrics=['accuracy'])\n",
    "    if s:\n",
    "        model.summary()\n",
    "    return model"
   ]
  },
  {
   "cell_type": "markdown",
   "id": "01b0cb99",
   "metadata": {
    "id": "01b0cb99"
   },
   "source": [
    "We can now easily generate different models.\n",
    "\n",
    "Note that the summaries show 288 parameters after all the convolutions, so a number of cells much larger than that in the `fc_lst` may not be useful and could make the model slower with no benefit.\n",
    "\n",
    "Additionally, `filter_size` values above 4 will crash the model as the initial pixel count of 32 is too small to last through 9 such convolutions and a pair of max pooling layers"
   ]
  },
  {
   "cell_type": "code",
   "execution_count": 25,
   "id": "c2b58917",
   "metadata": {
    "id": "c2b58917",
    "outputId": "44368e1c-a6ba-4167-f43e-b37d05b7c414"
   },
   "outputs": [
    {
     "name": "stdout",
     "output_type": "stream",
     "text": [
      "Model: \"model_2\"\n",
      "_________________________________________________________________\n",
      " Layer (type)                Output Shape              Param #   \n",
      "=================================================================\n",
      " input_3 (InputLayer)        [(None, 32, 32, 3)]       0         \n",
      "                                                                 \n",
      " conv2d_6 (Conv2D)           (None, 32, 32, 8)         224       \n",
      "                                                                 \n",
      " conv2d_7 (Conv2D)           (None, 32, 32, 8)         584       \n",
      "                                                                 \n",
      " conv2d_8 (Conv2D)           (None, 32, 32, 8)         584       \n",
      "                                                                 \n",
      " layer_normalization (LayerN  (None, 32, 32, 8)        16        \n",
      " ormalization)                                                   \n",
      "                                                                 \n",
      " conv2d_9 (Conv2D)           (None, 32, 32, 16)        1168      \n",
      "                                                                 \n",
      " conv2d_10 (Conv2D)          (None, 32, 32, 16)        2320      \n",
      "                                                                 \n",
      " conv2d_11 (Conv2D)          (None, 32, 32, 16)        2320      \n",
      "                                                                 \n",
      " max_pooling2d_2 (MaxPooling  (None, 16, 16, 16)       0         \n",
      " 2D)                                                             \n",
      "                                                                 \n",
      " layer_normalization_1 (Laye  (None, 16, 16, 16)       32        \n",
      " rNormalization)                                                 \n",
      "                                                                 \n",
      " conv2d_12 (Conv2D)          (None, 14, 14, 32)        4640      \n",
      "                                                                 \n",
      " conv2d_13 (Conv2D)          (None, 12, 12, 32)        9248      \n",
      "                                                                 \n",
      " conv2d_14 (Conv2D)          (None, 10, 10, 32)        9248      \n",
      "                                                                 \n",
      " max_pooling2d_3 (MaxPooling  (None, 5, 5, 32)         0         \n",
      " 2D)                                                             \n",
      "                                                                 \n",
      " layer_normalization_2 (Laye  (None, 5, 5, 32)         64        \n",
      " rNormalization)                                                 \n",
      "                                                                 \n",
      " flatten_2 (Flatten)         (None, 800)               0         \n",
      "                                                                 \n",
      " dense_8 (Dense)             (None, 200)               160200    \n",
      "                                                                 \n",
      " layer_normalization_3 (Laye  (None, 200)              400       \n",
      " rNormalization)                                                 \n",
      "                                                                 \n",
      " dense_9 (Dense)             (None, 200)               40200     \n",
      "                                                                 \n",
      " layer_normalization_4 (Laye  (None, 200)              400       \n",
      " rNormalization)                                                 \n",
      "                                                                 \n",
      " dense_10 (Dense)            (None, 200)               40200     \n",
      "                                                                 \n",
      " dense_11 (Dense)            (None, 10)                2010      \n",
      "                                                                 \n",
      "=================================================================\n",
      "Total params: 273,858\n",
      "Trainable params: 273,858\n",
      "Non-trainable params: 0\n",
      "_________________________________________________________________\n",
      "\n",
      "\n",
      "\n",
      "Model: \"model_3\"\n",
      "_________________________________________________________________\n",
      " Layer (type)                Output Shape              Param #   \n",
      "=================================================================\n",
      " input_4 (InputLayer)        [(None, 32, 32, 3)]       0         \n",
      "                                                                 \n",
      " conv2d_15 (Conv2D)          (None, 32, 32, 8)         224       \n",
      "                                                                 \n",
      " conv2d_16 (Conv2D)          (None, 32, 32, 8)         584       \n",
      "                                                                 \n",
      " conv2d_17 (Conv2D)          (None, 32, 32, 8)         584       \n",
      "                                                                 \n",
      " layer_normalization_5 (Laye  (None, 32, 32, 8)        16        \n",
      " rNormalization)                                                 \n",
      "                                                                 \n",
      " conv2d_18 (Conv2D)          (None, 32, 32, 16)        1168      \n",
      "                                                                 \n",
      " conv2d_19 (Conv2D)          (None, 32, 32, 16)        2320      \n",
      "                                                                 \n",
      " conv2d_20 (Conv2D)          (None, 32, 32, 16)        2320      \n",
      "                                                                 \n",
      " max_pooling2d_4 (MaxPooling  (None, 16, 16, 16)       0         \n",
      " 2D)                                                             \n",
      "                                                                 \n",
      " layer_normalization_6 (Laye  (None, 16, 16, 16)       32        \n",
      " rNormalization)                                                 \n",
      "                                                                 \n",
      " conv2d_21 (Conv2D)          (None, 14, 14, 32)        4640      \n",
      "                                                                 \n",
      " conv2d_22 (Conv2D)          (None, 12, 12, 32)        9248      \n",
      "                                                                 \n",
      " conv2d_23 (Conv2D)          (None, 10, 10, 32)        9248      \n",
      "                                                                 \n",
      " max_pooling2d_5 (MaxPooling  (None, 5, 5, 32)         0         \n",
      " 2D)                                                             \n",
      "                                                                 \n",
      " layer_normalization_7 (Laye  (None, 5, 5, 32)         64        \n",
      " rNormalization)                                                 \n",
      "                                                                 \n",
      " flatten_3 (Flatten)         (None, 800)               0         \n",
      "                                                                 \n",
      " dense_12 (Dense)            (None, 100)               80100     \n",
      "                                                                 \n",
      " layer_normalization_8 (Laye  (None, 100)              200       \n",
      " rNormalization)                                                 \n",
      "                                                                 \n",
      " dense_13 (Dense)            (None, 100)               10100     \n",
      "                                                                 \n",
      " dense_14 (Dense)            (None, 10)                1010      \n",
      "                                                                 \n",
      "=================================================================\n",
      "Total params: 121,858\n",
      "Trainable params: 121,858\n",
      "Non-trainable params: 0\n",
      "_________________________________________________________________\n",
      "\n",
      "\n",
      "\n",
      "Model: \"model_4\"\n",
      "_________________________________________________________________\n",
      " Layer (type)                Output Shape              Param #   \n",
      "=================================================================\n",
      " input_5 (InputLayer)        [(None, 32, 32, 3)]       0         \n",
      "                                                                 \n",
      " conv2d_24 (Conv2D)          (None, 32, 32, 8)         224       \n",
      "                                                                 \n",
      " conv2d_25 (Conv2D)          (None, 32, 32, 8)         584       \n",
      "                                                                 \n",
      " conv2d_26 (Conv2D)          (None, 32, 32, 8)         584       \n",
      "                                                                 \n",
      " layer_normalization_9 (Laye  (None, 32, 32, 8)        16        \n",
      " rNormalization)                                                 \n",
      "                                                                 \n",
      " conv2d_27 (Conv2D)          (None, 32, 32, 16)        1168      \n",
      "                                                                 \n",
      " conv2d_28 (Conv2D)          (None, 32, 32, 16)        2320      \n",
      "                                                                 \n",
      " conv2d_29 (Conv2D)          (None, 32, 32, 16)        2320      \n",
      "                                                                 \n",
      " max_pooling2d_6 (MaxPooling  (None, 16, 16, 16)       0         \n",
      " 2D)                                                             \n",
      "                                                                 \n",
      " layer_normalization_10 (Lay  (None, 16, 16, 16)       32        \n",
      " erNormalization)                                                \n",
      "                                                                 \n",
      " conv2d_30 (Conv2D)          (None, 14, 14, 32)        4640      \n",
      "                                                                 \n",
      " conv2d_31 (Conv2D)          (None, 12, 12, 32)        9248      \n",
      "                                                                 \n",
      " conv2d_32 (Conv2D)          (None, 10, 10, 32)        9248      \n",
      "                                                                 \n",
      " max_pooling2d_7 (MaxPooling  (None, 5, 5, 32)         0         \n",
      " 2D)                                                             \n",
      "                                                                 \n",
      " layer_normalization_11 (Lay  (None, 5, 5, 32)         64        \n",
      " erNormalization)                                                \n",
      "                                                                 \n",
      " flatten_4 (Flatten)         (None, 800)               0         \n",
      "                                                                 \n",
      " dense_15 (Dense)            (None, 200)               160200    \n",
      "                                                                 \n",
      " layer_normalization_12 (Lay  (None, 200)              400       \n",
      " erNormalization)                                                \n",
      "                                                                 \n",
      " dense_16 (Dense)            (None, 150)               30150     \n",
      "                                                                 \n",
      " layer_normalization_13 (Lay  (None, 150)              300       \n",
      " erNormalization)                                                \n",
      "                                                                 \n",
      " dense_17 (Dense)            (None, 150)               22650     \n",
      "                                                                 \n",
      " layer_normalization_14 (Lay  (None, 150)              300       \n",
      " erNormalization)                                                \n",
      "                                                                 \n",
      " dense_18 (Dense)            (None, 50)                7550      \n",
      "                                                                 \n",
      " layer_normalization_15 (Lay  (None, 50)               100       \n",
      " erNormalization)                                                \n",
      "                                                                 \n",
      " dense_19 (Dense)            (None, 50)                2550      \n",
      "                                                                 \n",
      " dense_20 (Dense)            (None, 10)                510       \n",
      "                                                                 \n",
      "=================================================================\n",
      "Total params: 255,158\n",
      "Trainable params: 255,158\n",
      "Non-trainable params: 0\n",
      "_________________________________________________________________\n",
      "\n",
      "\n",
      "\n"
     ]
    }
   ],
   "source": [
    "for fc_lst in [[200,200,200],[100,100],[200,150,150,50,50]]:\n",
    "    model =gen_model(fc_lst = fc_lst,s=True)\n",
    "    print('\\n\\n')"
   ]
  },
  {
   "cell_type": "code",
   "execution_count": 26,
   "id": "65b88b87",
   "metadata": {},
   "outputs": [
    {
     "data": {
      "text/plain": [
       "((2000, 32, 32, 3), (1000, 32, 32, 3))"
      ]
     },
     "execution_count": 26,
     "metadata": {},
     "output_type": "execute_result"
    }
   ],
   "source": [
    "xtr.shape, xval.shape"
   ]
  },
  {
   "cell_type": "code",
   "execution_count": null,
   "id": "300f96d1",
   "metadata": {
    "id": "300f96d1",
    "outputId": "d9f84190-0553-4781-a43c-3cc26514a539"
   },
   "outputs": [
    {
     "name": "stdout",
     "output_type": "stream",
     "text": [
      "Model: \"model_5\"\n",
      "_________________________________________________________________\n",
      " Layer (type)                Output Shape              Param #   \n",
      "=================================================================\n",
      " input_6 (InputLayer)        [(None, 32, 32, 3)]       0         \n",
      "                                                                 \n",
      " conv2d_33 (Conv2D)          (None, 32, 32, 8)         104       \n",
      "                                                                 \n",
      " conv2d_34 (Conv2D)          (None, 32, 32, 8)         264       \n",
      "                                                                 \n",
      " conv2d_35 (Conv2D)          (None, 32, 32, 8)         264       \n",
      "                                                                 \n",
      " layer_normalization_16 (Lay  (None, 32, 32, 8)        16        \n",
      " erNormalization)                                                \n",
      "                                                                 \n",
      " conv2d_36 (Conv2D)          (None, 32, 32, 16)        528       \n",
      "                                                                 \n",
      " conv2d_37 (Conv2D)          (None, 32, 32, 16)        1040      \n",
      "                                                                 \n",
      " conv2d_38 (Conv2D)          (None, 32, 32, 16)        1040      \n",
      "                                                                 \n",
      " max_pooling2d_8 (MaxPooling  (None, 16, 16, 16)       0         \n",
      " 2D)                                                             \n",
      "                                                                 \n",
      " layer_normalization_17 (Lay  (None, 16, 16, 16)       32        \n",
      " erNormalization)                                                \n",
      "                                                                 \n",
      " conv2d_39 (Conv2D)          (None, 15, 15, 32)        2080      \n",
      "                                                                 \n",
      " conv2d_40 (Conv2D)          (None, 14, 14, 32)        4128      \n",
      "                                                                 \n",
      " conv2d_41 (Conv2D)          (None, 13, 13, 32)        4128      \n",
      "                                                                 \n",
      " max_pooling2d_9 (MaxPooling  (None, 6, 6, 32)         0         \n",
      " 2D)                                                             \n",
      "                                                                 \n",
      " layer_normalization_18 (Lay  (None, 6, 6, 32)         64        \n",
      " erNormalization)                                                \n",
      "                                                                 \n",
      " flatten_5 (Flatten)         (None, 1152)              0         \n",
      "                                                                 \n",
      " dense_21 (Dense)            (None, 128)               147584    \n",
      "                                                                 \n",
      " layer_normalization_19 (Lay  (None, 128)              256       \n",
      " erNormalization)                                                \n",
      "                                                                 \n",
      " dense_22 (Dense)            (None, 128)               16512     \n",
      "                                                                 \n",
      " layer_normalization_20 (Lay  (None, 128)              256       \n",
      " erNormalization)                                                \n",
      "                                                                 \n",
      " dense_23 (Dense)            (None, 128)               16512     \n",
      "                                                                 \n",
      " dense_24 (Dense)            (None, 10)                1290      \n",
      "                                                                 \n",
      "=================================================================\n",
      "Total params: 196,098\n",
      "Trainable params: 196,098\n",
      "Non-trainable params: 0\n",
      "_________________________________________________________________\n",
      "\n",
      "MODEL (fc_lst, filter_size, LR, REG):  [128, 128, 128] 2 0.00155 0.1431 \n",
      "\n",
      "\n",
      "Epoch 1/8\n",
      "63/63 [==============================] - 10s 115ms/step - loss: 41.0316 - accuracy: 0.1315 - val_loss: 13.1590 - val_accuracy: 0.2030\n",
      "Epoch 2/8\n",
      "63/63 [==============================] - 7s 109ms/step - loss: 7.5844 - accuracy: 0.1800 - val_loss: 4.4530 - val_accuracy: 0.2010\n",
      "Epoch 3/8\n",
      "63/63 [==============================] - 7s 108ms/step - loss: 3.6394 - accuracy: 0.1755 - val_loss: 3.1529 - val_accuracy: 0.1660\n",
      "Epoch 4/8\n",
      "63/63 [==============================] - 7s 108ms/step - loss: 2.9289 - accuracy: 0.1455 - val_loss: 2.7933 - val_accuracy: 0.1190\n",
      "Epoch 5/8\n",
      "63/63 [==============================] - 7s 107ms/step - loss: 2.7049 - accuracy: 0.1495 - val_loss: 2.6614 - val_accuracy: 0.1070\n",
      "Epoch 6/8\n",
      "63/63 [==============================] - 7s 106ms/step - loss: 2.6060 - accuracy: 0.1005 - val_loss: 2.5613 - val_accuracy: 0.0900\n",
      "Epoch 7/8\n",
      "63/63 [==============================] - 7s 106ms/step - loss: 2.5341 - accuracy: 0.1070 - val_loss: 2.5096 - val_accuracy: 0.0900\n",
      "Epoch 8/8\n",
      "63/63 [==============================] - 7s 107ms/step - loss: 2.4905 - accuracy: 0.1070 - val_loss: 2.4729 - val_accuracy: 0.0900\n",
      "Model: \"model_6\"\n",
      "_________________________________________________________________\n",
      " Layer (type)                Output Shape              Param #   \n",
      "=================================================================\n",
      " input_7 (InputLayer)        [(None, 32, 32, 3)]       0         \n",
      "                                                                 \n",
      " conv2d_42 (Conv2D)          (None, 32, 32, 8)         104       \n",
      "                                                                 \n",
      " conv2d_43 (Conv2D)          (None, 32, 32, 8)         264       \n",
      "                                                                 \n",
      " conv2d_44 (Conv2D)          (None, 32, 32, 8)         264       \n",
      "                                                                 \n",
      " layer_normalization_21 (Lay  (None, 32, 32, 8)        16        \n",
      " erNormalization)                                                \n",
      "                                                                 \n",
      " conv2d_45 (Conv2D)          (None, 32, 32, 16)        528       \n",
      "                                                                 \n",
      " conv2d_46 (Conv2D)          (None, 32, 32, 16)        1040      \n",
      "                                                                 \n",
      " conv2d_47 (Conv2D)          (None, 32, 32, 16)        1040      \n",
      "                                                                 \n",
      " max_pooling2d_10 (MaxPoolin  (None, 16, 16, 16)       0         \n",
      " g2D)                                                            \n",
      "                                                                 \n",
      " layer_normalization_22 (Lay  (None, 16, 16, 16)       32        \n",
      " erNormalization)                                                \n",
      "                                                                 \n",
      " conv2d_48 (Conv2D)          (None, 15, 15, 32)        2080      \n",
      "                                                                 \n",
      " conv2d_49 (Conv2D)          (None, 14, 14, 32)        4128      \n",
      "                                                                 \n",
      " conv2d_50 (Conv2D)          (None, 13, 13, 32)        4128      \n",
      "                                                                 \n",
      " max_pooling2d_11 (MaxPoolin  (None, 6, 6, 32)         0         \n",
      " g2D)                                                            \n",
      "                                                                 \n",
      " layer_normalization_23 (Lay  (None, 6, 6, 32)         64        \n",
      " erNormalization)                                                \n",
      "                                                                 \n",
      " flatten_6 (Flatten)         (None, 1152)              0         \n",
      "                                                                 \n",
      " dense_25 (Dense)            (None, 128)               147584    \n",
      "                                                                 \n",
      " layer_normalization_24 (Lay  (None, 128)              256       \n",
      " erNormalization)                                                \n",
      "                                                                 \n",
      " dense_26 (Dense)            (None, 128)               16512     \n",
      "                                                                 \n",
      " layer_normalization_25 (Lay  (None, 128)              256       \n",
      " erNormalization)                                                \n",
      "                                                                 \n",
      " dense_27 (Dense)            (None, 128)               16512     \n",
      "                                                                 \n",
      " dense_28 (Dense)            (None, 10)                1290      \n",
      "                                                                 \n",
      "=================================================================\n",
      "Total params: 196,098\n",
      "Trainable params: 196,098\n",
      "Non-trainable params: 0\n",
      "_________________________________________________________________\n",
      "\n",
      "MODEL (fc_lst, filter_size, LR, REG):  [128, 128, 128] 2 0.03589 0.2407 \n",
      "\n",
      "\n",
      "Epoch 1/8\n",
      "63/63 [==============================] - 10s 118ms/step - loss: 15.3636 - accuracy: 0.1010 - val_loss: 2.4393 - val_accuracy: 0.0980\n",
      "Epoch 2/8\n",
      "63/63 [==============================] - 7s 108ms/step - loss: 2.3459 - accuracy: 0.1030 - val_loss: 2.3295 - val_accuracy: 0.0900\n",
      "Epoch 3/8\n",
      "63/63 [==============================] - 7s 106ms/step - loss: 2.3138 - accuracy: 0.1035 - val_loss: 2.3024 - val_accuracy: 0.1120\n",
      "Epoch 4/8\n",
      "63/63 [==============================] - 7s 107ms/step - loss: 2.3089 - accuracy: 0.0940 - val_loss: 2.3047 - val_accuracy: 0.0900\n",
      "Epoch 5/8\n",
      "63/63 [==============================] - 9s 146ms/step - loss: 2.3068 - accuracy: 0.0920 - val_loss: 2.3036 - val_accuracy: 0.0980\n",
      "Epoch 6/8\n",
      "63/63 [==============================] - 8s 133ms/step - loss: 2.3065 - accuracy: 0.0945 - val_loss: 2.3037 - val_accuracy: 0.0930\n",
      "Epoch 7/8\n",
      "63/63 [==============================] - 7s 106ms/step - loss: 2.3090 - accuracy: 0.1040 - val_loss: 2.3047 - val_accuracy: 0.1120\n",
      "Epoch 8/8\n",
      "63/63 [==============================] - 7s 106ms/step - loss: 2.3065 - accuracy: 0.1025 - val_loss: 2.3078 - val_accuracy: 0.0900\n",
      "Model: \"model_7\"\n",
      "_________________________________________________________________\n",
      " Layer (type)                Output Shape              Param #   \n",
      "=================================================================\n",
      " input_8 (InputLayer)        [(None, 32, 32, 3)]       0         \n",
      "                                                                 \n",
      " conv2d_51 (Conv2D)          (None, 32, 32, 8)         224       \n",
      "                                                                 \n",
      " conv2d_52 (Conv2D)          (None, 32, 32, 8)         584       \n",
      "                                                                 \n",
      " conv2d_53 (Conv2D)          (None, 32, 32, 8)         584       \n",
      "                                                                 \n",
      " layer_normalization_26 (Lay  (None, 32, 32, 8)        16        \n",
      " erNormalization)                                                \n",
      "                                                                 \n",
      " conv2d_54 (Conv2D)          (None, 32, 32, 16)        1168      \n",
      "                                                                 \n",
      " conv2d_55 (Conv2D)          (None, 32, 32, 16)        2320      \n",
      "                                                                 \n",
      " conv2d_56 (Conv2D)          (None, 32, 32, 16)        2320      \n",
      "                                                                 \n",
      " max_pooling2d_12 (MaxPoolin  (None, 16, 16, 16)       0         \n",
      " g2D)                                                            \n",
      "                                                                 \n",
      " layer_normalization_27 (Lay  (None, 16, 16, 16)       32        \n",
      " erNormalization)                                                \n",
      "                                                                 \n",
      " conv2d_57 (Conv2D)          (None, 14, 14, 32)        4640      \n",
      "                                                                 \n",
      " conv2d_58 (Conv2D)          (None, 12, 12, 32)        9248      \n",
      "                                                                 \n",
      " conv2d_59 (Conv2D)          (None, 10, 10, 32)        9248      \n",
      "                                                                 \n",
      " max_pooling2d_13 (MaxPoolin  (None, 5, 5, 32)         0         \n",
      " g2D)                                                            \n",
      "                                                                 \n",
      " layer_normalization_28 (Lay  (None, 5, 5, 32)         64        \n",
      " erNormalization)                                                \n",
      "                                                                 \n",
      " flatten_7 (Flatten)         (None, 800)               0         \n",
      "                                                                 \n",
      " dense_29 (Dense)            (None, 128)               102528    \n",
      "                                                                 \n",
      " layer_normalization_29 (Lay  (None, 128)              256       \n",
      " erNormalization)                                                \n",
      "                                                                 \n",
      " dense_30 (Dense)            (None, 128)               16512     \n",
      "                                                                 \n",
      " layer_normalization_30 (Lay  (None, 128)              256       \n",
      " erNormalization)                                                \n",
      "                                                                 \n",
      " dense_31 (Dense)            (None, 128)               16512     \n",
      "                                                                 \n",
      " dense_32 (Dense)            (None, 10)                1290      \n",
      "                                                                 \n",
      "=================================================================\n",
      "Total params: 167,802\n",
      "Trainable params: 167,802\n",
      "Non-trainable params: 0\n",
      "_________________________________________________________________\n",
      "\n",
      "MODEL (fc_lst, filter_size, LR, REG):  [128, 128, 128] 3 0.00876 0.1407 \n",
      "\n",
      "\n",
      "Epoch 1/8\n",
      "63/63 [==============================] - 14s 170ms/step - loss: 11.9241 - accuracy: 0.0975 - val_loss: 2.3872 - val_accuracy: 0.1120\n",
      "Epoch 2/8\n",
      "63/63 [==============================] - 10s 163ms/step - loss: 2.3175 - accuracy: 0.1010 - val_loss: 2.3026 - val_accuracy: 0.0900\n",
      "Epoch 3/8\n",
      "63/63 [==============================] - 10s 161ms/step - loss: 2.3033 - accuracy: 0.1020 - val_loss: 2.3024 - val_accuracy: 0.0900\n",
      "Epoch 4/8\n",
      "63/63 [==============================] - 11s 178ms/step - loss: 2.3030 - accuracy: 0.1070 - val_loss: 2.3028 - val_accuracy: 0.0900\n",
      "Epoch 5/8\n",
      "63/63 [==============================] - 10s 162ms/step - loss: 2.3034 - accuracy: 0.0985 - val_loss: 2.3027 - val_accuracy: 0.0900\n",
      "Epoch 6/8\n",
      "63/63 [==============================] - 10s 162ms/step - loss: 2.3036 - accuracy: 0.1070 - val_loss: 2.3028 - val_accuracy: 0.0900\n",
      "Epoch 7/8\n",
      "63/63 [==============================] - 10s 162ms/step - loss: 2.3033 - accuracy: 0.0940 - val_loss: 2.3024 - val_accuracy: 0.0900\n",
      "Epoch 8/8\n",
      "63/63 [==============================] - 10s 161ms/step - loss: 2.3037 - accuracy: 0.0930 - val_loss: 2.3024 - val_accuracy: 0.0900\n",
      "Model: \"model_8\"\n",
      "_________________________________________________________________\n",
      " Layer (type)                Output Shape              Param #   \n",
      "=================================================================\n",
      " input_9 (InputLayer)        [(None, 32, 32, 3)]       0         \n",
      "                                                                 \n",
      " conv2d_60 (Conv2D)          (None, 32, 32, 8)         224       \n",
      "                                                                 \n",
      " conv2d_61 (Conv2D)          (None, 32, 32, 8)         584       \n",
      "                                                                 \n",
      " conv2d_62 (Conv2D)          (None, 32, 32, 8)         584       \n",
      "                                                                 \n",
      " layer_normalization_31 (Lay  (None, 32, 32, 8)        16        \n",
      " erNormalization)                                                \n",
      "                                                                 \n",
      " conv2d_63 (Conv2D)          (None, 32, 32, 16)        1168      \n",
      "                                                                 \n",
      " conv2d_64 (Conv2D)          (None, 32, 32, 16)        2320      \n",
      "                                                                 \n",
      " conv2d_65 (Conv2D)          (None, 32, 32, 16)        2320      \n",
      "                                                                 \n",
      " max_pooling2d_14 (MaxPoolin  (None, 16, 16, 16)       0         \n",
      " g2D)                                                            \n",
      "                                                                 \n",
      " layer_normalization_32 (Lay  (None, 16, 16, 16)       32        \n",
      " erNormalization)                                                \n",
      "                                                                 \n",
      " conv2d_66 (Conv2D)          (None, 14, 14, 32)        4640      \n",
      "                                                                 \n",
      " conv2d_67 (Conv2D)          (None, 12, 12, 32)        9248      \n",
      "                                                                 \n",
      " conv2d_68 (Conv2D)          (None, 10, 10, 32)        9248      \n",
      "                                                                 \n",
      " max_pooling2d_15 (MaxPoolin  (None, 5, 5, 32)         0         \n",
      " g2D)                                                            \n",
      "                                                                 \n",
      " layer_normalization_33 (Lay  (None, 5, 5, 32)         64        \n",
      " erNormalization)                                                \n",
      "                                                                 \n",
      " flatten_8 (Flatten)         (None, 800)               0         \n",
      "                                                                 \n",
      " dense_33 (Dense)            (None, 128)               102528    \n",
      "                                                                 \n",
      " layer_normalization_34 (Lay  (None, 128)              256       \n",
      " erNormalization)                                                \n",
      "                                                                 \n",
      " dense_34 (Dense)            (None, 128)               16512     \n",
      "                                                                 \n",
      " layer_normalization_35 (Lay  (None, 128)              256       \n",
      " erNormalization)                                                \n",
      "                                                                 \n",
      " dense_35 (Dense)            (None, 128)               16512     \n",
      "                                                                 \n",
      " dense_36 (Dense)            (None, 10)                1290      \n",
      "                                                                 \n",
      "=================================================================\n",
      "Total params: 167,802\n",
      "Trainable params: 167,802\n",
      "Non-trainable params: 0\n",
      "_________________________________________________________________\n",
      "\n",
      "MODEL (fc_lst, filter_size, LR, REG):  [128, 128, 128] 3 0.00143 0.0039 \n",
      "\n",
      "\n",
      "Epoch 1/8\n",
      "63/63 [==============================] - 14s 171ms/step - loss: 4.3728 - accuracy: 0.0950 - val_loss: 3.9151 - val_accuracy: 0.1130\n",
      "Epoch 2/8\n",
      "63/63 [==============================] - 11s 167ms/step - loss: 3.6664 - accuracy: 0.1020 - val_loss: 3.4486 - val_accuracy: 0.0900\n",
      "Epoch 3/8\n",
      "63/63 [==============================] - 10s 161ms/step - loss: 3.2702 - accuracy: 0.1065 - val_loss: 3.1209 - val_accuracy: 0.0980\n",
      "Epoch 4/8\n",
      "63/63 [==============================] - 10s 167ms/step - loss: 3.0265 - accuracy: 0.0875 - val_loss: 2.9088 - val_accuracy: 0.1130\n",
      "Epoch 5/8\n",
      "63/63 [==============================] - 10s 161ms/step - loss: 2.8439 - accuracy: 0.1060 - val_loss: 2.7835 - val_accuracy: 0.1090\n",
      "Epoch 6/8\n",
      "63/63 [==============================] - 10s 162ms/step - loss: 2.7221 - accuracy: 0.0865 - val_loss: 2.6584 - val_accuracy: 0.1070\n",
      "Epoch 7/8\n",
      "63/63 [==============================] - 14s 224ms/step - loss: 2.6331 - accuracy: 0.0955 - val_loss: 2.5900 - val_accuracy: 0.1090\n",
      "Epoch 8/8\n",
      "63/63 [==============================] - 10s 161ms/step - loss: 2.5628 - accuracy: 0.1015 - val_loss: 2.5361 - val_accuracy: 0.1090\n",
      "Model: \"model_9\"\n",
      "_________________________________________________________________\n",
      " Layer (type)                Output Shape              Param #   \n",
      "=================================================================\n",
      " input_10 (InputLayer)       [(None, 32, 32, 3)]       0         \n",
      "                                                                 \n",
      " conv2d_69 (Conv2D)          (None, 32, 32, 8)         104       \n",
      "                                                                 \n",
      " conv2d_70 (Conv2D)          (None, 32, 32, 8)         264       \n",
      "                                                                 \n",
      " conv2d_71 (Conv2D)          (None, 32, 32, 8)         264       \n",
      "                                                                 \n",
      " layer_normalization_36 (Lay  (None, 32, 32, 8)        16        \n",
      " erNormalization)                                                \n",
      "                                                                 \n",
      " conv2d_72 (Conv2D)          (None, 32, 32, 16)        528       \n",
      "                                                                 \n",
      " conv2d_73 (Conv2D)          (None, 32, 32, 16)        1040      \n",
      "                                                                 \n",
      " conv2d_74 (Conv2D)          (None, 32, 32, 16)        1040      \n",
      "                                                                 \n",
      " max_pooling2d_16 (MaxPoolin  (None, 16, 16, 16)       0         \n",
      " g2D)                                                            \n",
      "                                                                 \n",
      " layer_normalization_37 (Lay  (None, 16, 16, 16)       32        \n",
      " erNormalization)                                                \n",
      "                                                                 \n",
      " conv2d_75 (Conv2D)          (None, 15, 15, 32)        2080      \n",
      "                                                                 \n",
      " conv2d_76 (Conv2D)          (None, 14, 14, 32)        4128      \n",
      "                                                                 \n",
      " conv2d_77 (Conv2D)          (None, 13, 13, 32)        4128      \n",
      "                                                                 \n",
      " max_pooling2d_17 (MaxPoolin  (None, 6, 6, 32)         0         \n",
      " g2D)                                                            \n",
      "                                                                 \n",
      " layer_normalization_38 (Lay  (None, 6, 6, 32)         64        \n",
      " erNormalization)                                                \n",
      "                                                                 \n",
      " flatten_9 (Flatten)         (None, 1152)              0         \n",
      "                                                                 \n",
      " dense_37 (Dense)            (None, 64)                73792     \n",
      "                                                                 \n",
      " layer_normalization_39 (Lay  (None, 64)               128       \n",
      " erNormalization)                                                \n",
      "                                                                 \n",
      " dense_38 (Dense)            (None, 64)                4160      \n",
      "                                                                 \n",
      " layer_normalization_40 (Lay  (None, 64)               128       \n",
      " erNormalization)                                                \n",
      "                                                                 \n",
      " dense_39 (Dense)            (None, 32)                2080      \n",
      "                                                                 \n",
      " layer_normalization_41 (Lay  (None, 32)               64        \n",
      " erNormalization)                                                \n",
      "                                                                 \n",
      " dense_40 (Dense)            (None, 16)                528       \n",
      "                                                                 \n",
      " dense_41 (Dense)            (None, 10)                170       \n",
      "                                                                 \n",
      "=================================================================\n",
      "Total params: 94,738\n",
      "Trainable params: 94,738\n",
      "Non-trainable params: 0\n",
      "_________________________________________________________________\n",
      "\n",
      "MODEL (fc_lst, filter_size, LR, REG):  [64, 64, 32, 16] 2 0.00013 0.1939 \n",
      "\n",
      "\n",
      "Epoch 1/8\n",
      "63/63 [==============================] - 11s 116ms/step - loss: 75.9302 - accuracy: 0.1025 - val_loss: 69.9205 - val_accuracy: 0.1100\n",
      "Epoch 2/8\n",
      "63/63 [==============================] - 7s 109ms/step - loss: 64.8935 - accuracy: 0.1120 - val_loss: 59.9356 - val_accuracy: 0.1120\n",
      "Epoch 3/8\n",
      "63/63 [==============================] - 7s 111ms/step - loss: 55.7794 - accuracy: 0.1090 - val_loss: 51.6848 - val_accuracy: 0.0930\n",
      "Epoch 4/8\n",
      "63/63 [==============================] - 7s 108ms/step - loss: 48.2311 - accuracy: 0.1050 - val_loss: 44.8238 - val_accuracy: 0.1230\n",
      "Epoch 5/8\n",
      "63/63 [==============================] - 7s 116ms/step - loss: 41.9498 - accuracy: 0.1115 - val_loss: 39.1089 - val_accuracy: 0.1060\n",
      "Epoch 6/8\n",
      "63/63 [==============================] - 7s 109ms/step - loss: 36.7095 - accuracy: 0.1075 - val_loss: 34.3284 - val_accuracy: 0.1120\n",
      "Epoch 7/8\n",
      "63/63 [==============================] - 7s 108ms/step - loss: 32.3056 - accuracy: 0.0875 - val_loss: 30.2931 - val_accuracy: 0.1140\n",
      "Epoch 8/8\n",
      "63/63 [==============================] - 7s 109ms/step - loss: 28.5698 - accuracy: 0.1070 - val_loss: 26.8551 - val_accuracy: 0.1130\n",
      "Model: \"model_10\"\n",
      "_________________________________________________________________\n",
      " Layer (type)                Output Shape              Param #   \n",
      "=================================================================\n",
      " input_11 (InputLayer)       [(None, 32, 32, 3)]       0         \n",
      "                                                                 \n",
      " conv2d_78 (Conv2D)          (None, 32, 32, 8)         104       \n",
      "                                                                 \n",
      " conv2d_79 (Conv2D)          (None, 32, 32, 8)         264       \n",
      "                                                                 \n",
      " conv2d_80 (Conv2D)          (None, 32, 32, 8)         264       \n",
      "                                                                 \n",
      " layer_normalization_42 (Lay  (None, 32, 32, 8)        16        \n",
      " erNormalization)                                                \n",
      "                                                                 \n",
      " conv2d_81 (Conv2D)          (None, 32, 32, 16)        528       \n",
      "                                                                 \n",
      " conv2d_82 (Conv2D)          (None, 32, 32, 16)        1040      \n",
      "                                                                 \n",
      " conv2d_83 (Conv2D)          (None, 32, 32, 16)        1040      \n",
      "                                                                 \n",
      " max_pooling2d_18 (MaxPoolin  (None, 16, 16, 16)       0         \n",
      " g2D)                                                            \n",
      "                                                                 \n",
      " layer_normalization_43 (Lay  (None, 16, 16, 16)       32        \n",
      " erNormalization)                                                \n",
      "                                                                 \n",
      " conv2d_84 (Conv2D)          (None, 15, 15, 32)        2080      \n",
      "                                                                 \n",
      " conv2d_85 (Conv2D)          (None, 14, 14, 32)        4128      \n",
      "                                                                 \n",
      " conv2d_86 (Conv2D)          (None, 13, 13, 32)        4128      \n",
      "                                                                 \n",
      " max_pooling2d_19 (MaxPoolin  (None, 6, 6, 32)         0         \n",
      " g2D)                                                            \n",
      "                                                                 \n",
      " layer_normalization_44 (Lay  (None, 6, 6, 32)         64        \n",
      " erNormalization)                                                \n",
      "                                                                 \n",
      " flatten_10 (Flatten)        (None, 1152)              0         \n",
      "                                                                 \n",
      " dense_42 (Dense)            (None, 64)                73792     \n",
      "                                                                 \n",
      " layer_normalization_45 (Lay  (None, 64)               128       \n",
      " erNormalization)                                                \n",
      "                                                                 \n",
      " dense_43 (Dense)            (None, 64)                4160      \n",
      "                                                                 \n",
      " layer_normalization_46 (Lay  (None, 64)               128       \n",
      " erNormalization)                                                \n",
      "                                                                 \n",
      " dense_44 (Dense)            (None, 32)                2080      \n",
      "                                                                 \n",
      " layer_normalization_47 (Lay  (None, 32)               64        \n",
      " erNormalization)                                                \n",
      "                                                                 \n",
      " dense_45 (Dense)            (None, 16)                528       \n",
      "                                                                 \n",
      " dense_46 (Dense)            (None, 10)                170       \n",
      "                                                                 \n",
      "=================================================================\n",
      "Total params: 94,738\n",
      "Trainable params: 94,738\n",
      "Non-trainable params: 0\n",
      "_________________________________________________________________\n",
      "\n",
      "MODEL (fc_lst, filter_size, LR, REG):  [64, 64, 32, 16] 2 0.00098 0.0014 \n",
      "\n",
      "\n",
      "Epoch 1/8\n",
      "63/63 [==============================] - 10s 114ms/step - loss: 2.7903 - accuracy: 0.1350 - val_loss: 2.6885 - val_accuracy: 0.1460\n",
      "Epoch 2/8\n",
      "63/63 [==============================] - 7s 108ms/step - loss: 2.5898 - accuracy: 0.1895 - val_loss: 2.4902 - val_accuracy: 0.2390\n",
      "Epoch 3/8\n",
      "63/63 [==============================] - 7s 107ms/step - loss: 2.3296 - accuracy: 0.2760 - val_loss: 2.2539 - val_accuracy: 0.2990\n",
      "Epoch 4/8\n",
      "63/63 [==============================] - 7s 106ms/step - loss: 2.2324 - accuracy: 0.3170 - val_loss: 2.2266 - val_accuracy: 0.3170\n",
      "Epoch 5/8\n",
      "63/63 [==============================] - 7s 113ms/step - loss: 2.0602 - accuracy: 0.3770 - val_loss: 2.1114 - val_accuracy: 0.3660\n",
      "Epoch 6/8\n",
      "63/63 [==============================] - 7s 107ms/step - loss: 1.9496 - accuracy: 0.4195 - val_loss: 2.1572 - val_accuracy: 0.3850\n",
      "Epoch 7/8\n",
      "63/63 [==============================] - 7s 106ms/step - loss: 1.8273 - accuracy: 0.4860 - val_loss: 2.1458 - val_accuracy: 0.3810\n",
      "Epoch 8/8\n",
      "63/63 [==============================] - 7s 105ms/step - loss: 1.7117 - accuracy: 0.5320 - val_loss: 2.1871 - val_accuracy: 0.3670\n",
      "Model: \"model_11\"\n",
      "_________________________________________________________________\n",
      " Layer (type)                Output Shape              Param #   \n",
      "=================================================================\n",
      " input_12 (InputLayer)       [(None, 32, 32, 3)]       0         \n",
      "                                                                 \n",
      " conv2d_87 (Conv2D)          (None, 32, 32, 8)         224       \n",
      "                                                                 \n",
      " conv2d_88 (Conv2D)          (None, 32, 32, 8)         584       \n",
      "                                                                 \n",
      " conv2d_89 (Conv2D)          (None, 32, 32, 8)         584       \n",
      "                                                                 \n",
      " layer_normalization_48 (Lay  (None, 32, 32, 8)        16        \n",
      " erNormalization)                                                \n",
      "                                                                 \n",
      " conv2d_90 (Conv2D)          (None, 32, 32, 16)        1168      \n",
      "                                                                 \n",
      " conv2d_91 (Conv2D)          (None, 32, 32, 16)        2320      \n",
      "                                                                 \n",
      " conv2d_92 (Conv2D)          (None, 32, 32, 16)        2320      \n",
      "                                                                 \n",
      " max_pooling2d_20 (MaxPoolin  (None, 16, 16, 16)       0         \n",
      " g2D)                                                            \n",
      "                                                                 \n",
      " layer_normalization_49 (Lay  (None, 16, 16, 16)       32        \n",
      " erNormalization)                                                \n",
      "                                                                 \n",
      " conv2d_93 (Conv2D)          (None, 14, 14, 32)        4640      \n",
      "                                                                 \n",
      " conv2d_94 (Conv2D)          (None, 12, 12, 32)        9248      \n",
      "                                                                 \n",
      " conv2d_95 (Conv2D)          (None, 10, 10, 32)        9248      \n",
      "                                                                 \n",
      " max_pooling2d_21 (MaxPoolin  (None, 5, 5, 32)         0         \n",
      " g2D)                                                            \n",
      "                                                                 \n",
      " layer_normalization_50 (Lay  (None, 5, 5, 32)         64        \n",
      " erNormalization)                                                \n",
      "                                                                 \n",
      " flatten_11 (Flatten)        (None, 800)               0         \n",
      "                                                                 \n",
      " dense_47 (Dense)            (None, 64)                51264     \n",
      "                                                                 \n",
      " layer_normalization_51 (Lay  (None, 64)               128       \n",
      " erNormalization)                                                \n",
      "                                                                 \n",
      " dense_48 (Dense)            (None, 64)                4160      \n",
      "                                                                 \n",
      " layer_normalization_52 (Lay  (None, 64)               128       \n",
      " erNormalization)                                                \n",
      "                                                                 \n",
      " dense_49 (Dense)            (None, 32)                2080      \n",
      "                                                                 \n",
      " layer_normalization_53 (Lay  (None, 32)               64        \n",
      " erNormalization)                                                \n",
      "                                                                 \n",
      " dense_50 (Dense)            (None, 16)                528       \n",
      "                                                                 \n",
      " dense_51 (Dense)            (None, 10)                170       \n",
      "                                                                 \n",
      "=================================================================\n",
      "Total params: 88,970\n",
      "Trainable params: 88,970\n",
      "Non-trainable params: 0\n",
      "_________________________________________________________________\n",
      "\n",
      "MODEL (fc_lst, filter_size, LR, REG):  [64, 64, 32, 16] 3 0.00017 0.0067 \n",
      "\n",
      "\n",
      "Epoch 1/8\n",
      "63/63 [==============================] - 14s 170ms/step - loss: 4.9134 - accuracy: 0.1015 - val_loss: 4.7870 - val_accuracy: 0.1110\n",
      "Epoch 2/8\n",
      "63/63 [==============================] - 10s 161ms/step - loss: 4.6654 - accuracy: 0.1300 - val_loss: 4.5318 - val_accuracy: 0.1480\n",
      "Epoch 3/8\n",
      "63/63 [==============================] - 10s 162ms/step - loss: 4.4105 - accuracy: 0.1740 - val_loss: 4.2992 - val_accuracy: 0.1890\n",
      "Epoch 4/8\n",
      "63/63 [==============================] - 10s 160ms/step - loss: 4.2073 - accuracy: 0.2100 - val_loss: 4.1658 - val_accuracy: 0.1850\n",
      "Epoch 5/8\n",
      "63/63 [==============================] - 11s 169ms/step - loss: 4.0387 - accuracy: 0.2710 - val_loss: 4.0049 - val_accuracy: 0.2430\n",
      "Epoch 6/8\n",
      "63/63 [==============================] - 10s 161ms/step - loss: 3.8965 - accuracy: 0.2930 - val_loss: 3.9660 - val_accuracy: 0.2420\n",
      "Epoch 7/8\n",
      "63/63 [==============================] - 10s 160ms/step - loss: 3.7854 - accuracy: 0.3075 - val_loss: 3.8269 - val_accuracy: 0.2750\n",
      "Epoch 8/8\n",
      "63/63 [==============================] - 10s 160ms/step - loss: 3.6380 - accuracy: 0.3545 - val_loss: 3.7528 - val_accuracy: 0.3030\n",
      "Model: \"model_12\"\n",
      "_________________________________________________________________\n",
      " Layer (type)                Output Shape              Param #   \n",
      "=================================================================\n",
      " input_13 (InputLayer)       [(None, 32, 32, 3)]       0         \n",
      "                                                                 \n",
      " conv2d_96 (Conv2D)          (None, 32, 32, 8)         224       \n",
      "                                                                 \n",
      " conv2d_97 (Conv2D)          (None, 32, 32, 8)         584       \n",
      "                                                                 \n",
      " conv2d_98 (Conv2D)          (None, 32, 32, 8)         584       \n",
      "                                                                 \n",
      " layer_normalization_54 (Lay  (None, 32, 32, 8)        16        \n",
      " erNormalization)                                                \n",
      "                                                                 \n",
      " conv2d_99 (Conv2D)          (None, 32, 32, 16)        1168      \n",
      "                                                                 \n",
      " conv2d_100 (Conv2D)         (None, 32, 32, 16)        2320      \n",
      "                                                                 \n",
      " conv2d_101 (Conv2D)         (None, 32, 32, 16)        2320      \n",
      "                                                                 \n",
      " max_pooling2d_22 (MaxPoolin  (None, 16, 16, 16)       0         \n",
      " g2D)                                                            \n",
      "                                                                 \n",
      " layer_normalization_55 (Lay  (None, 16, 16, 16)       32        \n",
      " erNormalization)                                                \n",
      "                                                                 \n",
      " conv2d_102 (Conv2D)         (None, 14, 14, 32)        4640      \n",
      "                                                                 \n",
      " conv2d_103 (Conv2D)         (None, 12, 12, 32)        9248      \n",
      "                                                                 \n",
      " conv2d_104 (Conv2D)         (None, 10, 10, 32)        9248      \n",
      "                                                                 \n",
      " max_pooling2d_23 (MaxPoolin  (None, 5, 5, 32)         0         \n",
      " g2D)                                                            \n",
      "                                                                 \n",
      " layer_normalization_56 (Lay  (None, 5, 5, 32)         64        \n",
      " erNormalization)                                                \n",
      "                                                                 \n",
      " flatten_12 (Flatten)        (None, 800)               0         \n",
      "                                                                 \n",
      " dense_52 (Dense)            (None, 64)                51264     \n",
      "                                                                 \n",
      " layer_normalization_57 (Lay  (None, 64)               128       \n",
      " erNormalization)                                                \n",
      "                                                                 \n",
      " dense_53 (Dense)            (None, 64)                4160      \n",
      "                                                                 \n",
      " layer_normalization_58 (Lay  (None, 64)               128       \n",
      " erNormalization)                                                \n",
      "                                                                 \n",
      " dense_54 (Dense)            (None, 32)                2080      \n",
      "                                                                 \n",
      " layer_normalization_59 (Lay  (None, 32)               64        \n",
      " erNormalization)                                                \n",
      "                                                                 \n",
      " dense_55 (Dense)            (None, 16)                528       \n",
      "                                                                 \n",
      " dense_56 (Dense)            (None, 10)                170       \n",
      "                                                                 \n",
      "=================================================================\n",
      "Total params: 88,970\n",
      "Trainable params: 88,970\n",
      "Non-trainable params: 0\n",
      "_________________________________________________________________\n",
      "\n",
      "MODEL (fc_lst, filter_size, LR, REG):  [64, 64, 32, 16] 3 0.00051 0.0332 \n",
      "\n",
      "\n",
      "Epoch 1/8\n",
      "63/63 [==============================] - 15s 171ms/step - loss: 13.9195 - accuracy: 0.1350 - val_loss: 11.9467 - val_accuracy: 0.1490\n",
      "Epoch 2/8\n",
      "63/63 [==============================] - 14s 223ms/step - loss: 10.4000 - accuracy: 0.1975 - val_loss: 9.0467 - val_accuracy: 0.2070\n",
      "Epoch 3/8\n",
      "63/63 [==============================] - 10s 162ms/step - loss: 7.9666 - accuracy: 0.2465 - val_loss: 7.1008 - val_accuracy: 0.2150\n",
      "Epoch 4/8\n",
      "63/63 [==============================] - 10s 161ms/step - loss: 6.4095 - accuracy: 0.2640 - val_loss: 5.8762 - val_accuracy: 0.2270\n",
      "Epoch 5/8\n",
      "63/63 [==============================] - 10s 161ms/step - loss: 5.4122 - accuracy: 0.2905 - val_loss: 5.0708 - val_accuracy: 0.3050\n",
      "Epoch 6/8\n",
      "63/63 [==============================] - 10s 163ms/step - loss: 4.6898 - accuracy: 0.3270 - val_loss: 4.5174 - val_accuracy: 0.3270\n",
      "Epoch 7/8\n",
      "63/63 [==============================] - 10s 162ms/step - loss: 4.2020 - accuracy: 0.3540 - val_loss: 4.0733 - val_accuracy: 0.3350\n",
      "Epoch 8/8\n",
      "63/63 [==============================] - 11s 173ms/step - loss: 3.8167 - accuracy: 0.3825 - val_loss: 3.8381 - val_accuracy: 0.3230\n"
     ]
    }
   ],
   "source": [
    "for fc_lst in [[128,128,128],[64,64,32,16]]:\n",
    "    for filter_size in [2,3]:\n",
    "        for i in range(2):\n",
    "            #we will train every model 3 times with different learning rate and\n",
    "            #regularization hyperparameters\n",
    "            LRlog = np.random.rand()*3 - 4\n",
    "            REGlog = np.random.rand()*3 - 3\n",
    "            #note that this rand function gives a number from a uniform distribution\n",
    "            #a number from a normal distribution wouldn't be ideal\n",
    "            LR = 10**(LRlog)\n",
    "            REG = 10**(REGlog)\n",
    "            #we're exploring the hyperparemeter space of LR and REG\n",
    "            #logarithmically, so various magnitudes are equally represented\n",
    "            #if we took a random number from 1e-4 to 1e-1 directly, \n",
    "            #the lower magnitudes wouldn't come up often\n",
    "            model =gen_model(fc_lst = fc_lst,\n",
    "                             filter_size=filter_size,\n",
    "                             lr= LR, r = REG, s=True)\n",
    "            print('\\nMODEL (fc_lst, filter_size, LR, REG): ',\n",
    "                  fc_lst, filter_size, np.round(LR,5), np.round(REG,4),\n",
    "                 '\\n\\n')\n",
    "            #the np.round() function is fantastic for the eyes\n",
    "            record = model.fit(xtr,vtr,validation_data=(xval,vval), epochs = 8)\n",
    "            "
   ]
  },
  {
   "cell_type": "markdown",
   "id": "c0e4e3cf",
   "metadata": {},
   "source": [
    "---"
   ]
  },
  {
   "cell_type": "markdown",
   "id": "725dae33",
   "metadata": {},
   "source": [
    "# Now, THOSE are some GOOOOD models!! Let's build a model with medical images. \n",
    "\n",
    "## We'll use data from \"PadChest: A large chest x-ray image dataset with multi-label annotated reports\" published in Medical Image Analysis (2020) by Bustos A., Pertusa A., Salinas J., de la Iglesia-Vayá M. https://bimcv.cipf.es/bimcv-projects/padchest/\n",
    "\n",
    "## First, we'll load the data."
   ]
  },
  {
   "cell_type": "code",
   "execution_count": 28,
   "id": "2ad64da4",
   "metadata": {
    "id": "2ad64da4",
    "outputId": "c5776f45-9b54-4132-c0b0-c5979e0223ce"
   },
   "outputs": [
    {
     "name": "stdout",
     "output_type": "stream",
     "text": [
      "(87, 1200, 1200, 1) (87, 1)\n"
     ]
    }
   ],
   "source": [
    "N = 87\n",
    "dim = 1200\n",
    "xr_arr = np.load('resizedPadChest0.npy')\n",
    "diag_arr = np.load('sickbin.npy')\n",
    "xr_arr = xr_arr.reshape(N,dim,dim,1)\n",
    "diag_arr = diag_arr.reshape(N,1)\n",
    "print(xr_arr.shape, diag_arr.shape)"
   ]
  },
  {
   "cell_type": "code",
   "execution_count": 29,
   "id": "34761524",
   "metadata": {
    "scrolled": true
   },
   "outputs": [
    {
     "data": {
      "image/png": "[encoded data removed]",
      "text/plain": [
       "<Figure size 640x480 with 1 Axes>"
      ]
     },
     "metadata": {},
     "output_type": "display_data"
    },
    {
     "name": "stdout",
     "output_type": "stream",
     "text": [
      "AND the matching value is  [1]  so the patient is ill. And chances are the patient would like to know...\n"
     ]
    }
   ],
   "source": [
    "plt.imshow(xr_arr[3])\n",
    "plt.show()\n",
    "print('AND the matching value is ',diag_arr[3], ' so the patient is ill. And chances are the patient would like to know...')"
   ]
  },
  {
   "cell_type": "markdown",
   "id": "0766428f",
   "metadata": {},
   "source": [
    "### these are 87 chest xray images with about a third of them healthy and a third of them suffering from a nondescribed ailment. We'll build a small model to try and catch abnormal images\n",
    "\n",
    "### A 1 at location 'k' means that the image in 'xr_arr' at location 'k' is abnormal and has some visible disease"
   ]
  },
  {
   "cell_type": "code",
   "execution_count": 30,
   "id": "3ab088fb",
   "metadata": {
    "id": "3ab088fb"
   },
   "outputs": [],
   "source": [
    "def gen_xr_model(lr =  1e-3, r = 1, input_shape = xr_arr[0].shape, \n",
    "              filter_size =4, fc_lst = [400,400,200], s = False):\n",
    "    input_tensor = tf.keras.Input(shape=input_shape )\n",
    "    \"\"\"\n",
    "    THIS ARCHITECTURE WAS INSPIRED BY VGG16 \n",
    "    \n",
    "    lr refers to learning rate\n",
    "    r referes to L2 regularization rate \n",
    "    filter_size is used for vertical and horizontal dimension of all\n",
    "        convolutional kernels in this model\n",
    "    fc_lst defines the layers and cells following the convolutional \n",
    "        segment. For example, fc_lst = [400,200,100] will add three\n",
    "        neural netowrk layers at the end of the model where the first\n",
    "        has 400 cells and the last has 100 cells. \n",
    "        The final layer will always automatically have 21 cells for\n",
    "        prediction and fc_lst must be a list of two or more numbers\n",
    "    s takes a boolean deciding whether to print a keras summary\n",
    "        of the model generated\n",
    "        \n",
    "    changes from earlier version of this function:\n",
    "        last layer now has 21 cells and a sigmoid rather than softmax\n",
    "        activation function, this allows one image to have multiple\n",
    "        diagnoses. Padding was removed. default input shape changed\n",
    "    \n",
    "    \"\"\"\n",
    "    c1 = Conv2D(8, kernel_size=(filter_size, filter_size), \n",
    "                activation='relu', \n",
    "                data_format= 'channels_last',\n",
    "                input_shape=input_shape,\n",
    "                kernel_regularizer = tf.keras.regularizers.l2(r))(input_tensor) \n",
    "    c2 = Conv2D(8, kernel_size=(filter_size, filter_size),\n",
    "                activation='relu', \n",
    "                data_format= 'channels_last',\n",
    "                kernel_regularizer = tf.keras.regularizers.l2(r))(c1)\n",
    "    c3 = Conv2D(8, kernel_size=(filter_size, filter_size), \n",
    "                activation='relu',\n",
    "                data_format= 'channels_last',\n",
    "                kernel_regularizer = tf.keras.regularizers.l2(r))(c2)\n",
    "    mp1 = tf.keras.layers.MaxPool2D(data_format= 'channels_last')(c3)\n",
    "    l1 = tf.keras.layers.LayerNormalization()(mp1)\n",
    "    c4 = Conv2D(16, kernel_size=(filter_size, filter_size), \n",
    "                activation='relu', \n",
    "                data_format= 'channels_last',\n",
    "                input_shape=input_shape,\n",
    "                kernel_regularizer = tf.keras.regularizers.l2(r))(l1) \n",
    "    c5 = Conv2D(16, kernel_size=(filter_size, filter_size),\n",
    "                activation='relu', \n",
    "                data_format= 'channels_last',\n",
    "                kernel_regularizer = tf.keras.regularizers.l2(r))(c4)\n",
    "    c6 = Conv2D(16, kernel_size=(filter_size, filter_size), \n",
    "                activation='relu', \n",
    "                data_format= 'channels_last',\n",
    "                kernel_regularizer = tf.keras.regularizers.l2(r))(c5)\n",
    "    mp2 = tf.keras.layers.MaxPool2D(data_format= 'channels_last')(c6)\n",
    "    l2 = tf.keras.layers.LayerNormalization()(mp2)\n",
    "    c7 = Conv2D(16, kernel_size=(filter_size, filter_size),\n",
    "                activation='relu', \n",
    "                data_format= 'channels_last',\n",
    "                input_shape=input_shape,\n",
    "                kernel_regularizer = tf.keras.regularizers.l2(r))(l2) \n",
    "    c8 = Conv2D(16, kernel_size=(filter_size, filter_size),\n",
    "                activation='relu', \n",
    "                data_format= 'channels_last',\n",
    "                kernel_regularizer = tf.keras.regularizers.l2(r))(c7)\n",
    "    c9 = Conv2D(16, kernel_size=(filter_size, filter_size), \n",
    "                activation='relu', \n",
    "                data_format= 'channels_last',\n",
    "                kernel_regularizer = tf.keras.regularizers.l2(r))(c8)\n",
    "    mp3 = tf.keras.layers.MaxPool2D(data_format= 'channels_last')(c9)\n",
    "    l3 = tf.keras.layers.LayerNormalization()(mp3)\n",
    "    c10 = Conv2D(16, kernel_size=(filter_size, filter_size),\n",
    "                activation='relu', \n",
    "                 data_format= 'channels_last',\n",
    "                input_shape=input_shape,\n",
    "                kernel_regularizer = tf.keras.regularizers.l2(r))(l3) \n",
    "    c11 = Conv2D(16, kernel_size=(filter_size, filter_size),\n",
    "                activation='relu', \n",
    "                 data_format= 'channels_last',\n",
    "                kernel_regularizer = tf.keras.regularizers.l2(r))(c10)\n",
    "    c12 = Conv2D(16, kernel_size=(filter_size, filter_size), \n",
    "                activation='relu', \n",
    "                 data_format= 'channels_last',\n",
    "                kernel_regularizer = tf.keras.regularizers.l2(r))(c11)\n",
    "    mp4 = tf.keras.layers.MaxPool2D(data_format= 'channels_last')(c12)\n",
    "    l4 = tf.keras.layers.LayerNormalization()(mp4)\n",
    "    ## FC ## FC ## FC ## FC ## FC ## FC ## FC ## FC ## FC ## FC ## FC ##\n",
    "    flat= Flatten()(l4)\n",
    "    for fc_dim in fc_lst[:-1]:\n",
    "        FC = Dense(fc_dim, activation = 'relu', \n",
    "                    kernel_regularizer = tf.keras.regularizers.l2(r))(flat)\n",
    "        flat = tf.keras.layers.LayerNormalization()(FC)\n",
    "    flat = Dense(fc_lst[-1], activation = 'relu', \n",
    "                    kernel_regularizer = tf.keras.regularizers.l2(r))(flat)    \n",
    "    predictions = Dense(1, activation = 'sigmoid', \n",
    "                        kernel_regularizer = tf.keras.regularizers.l2(r))(flat)\n",
    "    #connect model\n",
    "    model = Model(inputs=input_tensor,outputs=predictions)\n",
    "    #run\n",
    "    model.compile(loss= categorical_crossentropy,\n",
    "                  optimizer=Adam(learning_rate=lr),\n",
    "                  metrics=['accuracy'])\n",
    "    if s:\n",
    "        model.summary()\n",
    "    return model"
   ]
  },
  {
   "cell_type": "code",
   "execution_count": 31,
   "id": "5b255270",
   "metadata": {
    "id": "5b255270",
    "outputId": "c4a2c9d7-15ab-4ff4-bd00-9ee532cb1aad"
   },
   "outputs": [
    {
     "name": "stdout",
     "output_type": "stream",
     "text": [
      "Model: \"model_13\"\n",
      "_________________________________________________________________\n",
      " Layer (type)                Output Shape              Param #   \n",
      "=================================================================\n",
      " input_14 (InputLayer)       [(None, 1200, 1200, 1)]   0         \n",
      "                                                                 \n",
      " conv2d_105 (Conv2D)         (None, 1196, 1196, 8)     208       \n",
      "                                                                 \n",
      " conv2d_106 (Conv2D)         (None, 1192, 1192, 8)     1608      \n",
      "                                                                 \n",
      " conv2d_107 (Conv2D)         (None, 1188, 1188, 8)     1608      \n",
      "                                                                 \n",
      " max_pooling2d_24 (MaxPoolin  (None, 594, 594, 8)      0         \n",
      " g2D)                                                            \n",
      "                                                                 \n",
      " layer_normalization_60 (Lay  (None, 594, 594, 8)      16        \n",
      " erNormalization)                                                \n",
      "                                                                 \n",
      " conv2d_108 (Conv2D)         (None, 590, 590, 16)      3216      \n",
      "                                                                 \n",
      " conv2d_109 (Conv2D)         (None, 586, 586, 16)      6416      \n",
      "                                                                 \n",
      " conv2d_110 (Conv2D)         (None, 582, 582, 16)      6416      \n",
      "                                                                 \n",
      " max_pooling2d_25 (MaxPoolin  (None, 291, 291, 16)     0         \n",
      " g2D)                                                            \n",
      "                                                                 \n",
      " layer_normalization_61 (Lay  (None, 291, 291, 16)     32        \n",
      " erNormalization)                                                \n",
      "                                                                 \n",
      " conv2d_111 (Conv2D)         (None, 287, 287, 16)      6416      \n",
      "                                                                 \n",
      " conv2d_112 (Conv2D)         (None, 283, 283, 16)      6416      \n",
      "                                                                 \n",
      " conv2d_113 (Conv2D)         (None, 279, 279, 16)      6416      \n",
      "                                                                 \n",
      " max_pooling2d_26 (MaxPoolin  (None, 139, 139, 16)     0         \n",
      " g2D)                                                            \n",
      "                                                                 \n",
      " layer_normalization_62 (Lay  (None, 139, 139, 16)     32        \n",
      " erNormalization)                                                \n",
      "                                                                 \n",
      " conv2d_114 (Conv2D)         (None, 135, 135, 16)      6416      \n",
      "                                                                 \n",
      " conv2d_115 (Conv2D)         (None, 131, 131, 16)      6416      \n",
      "                                                                 \n",
      " conv2d_116 (Conv2D)         (None, 127, 127, 16)      6416      \n",
      "                                                                 \n",
      " max_pooling2d_27 (MaxPoolin  (None, 63, 63, 16)       0         \n",
      " g2D)                                                            \n",
      "                                                                 \n",
      " layer_normalization_63 (Lay  (None, 63, 63, 16)       32        \n",
      " erNormalization)                                                \n",
      "                                                                 \n",
      " flatten_13 (Flatten)        (None, 63504)             0         \n",
      "                                                                 \n",
      " dense_57 (Dense)            (None, 48)                3048240   \n",
      "                                                                 \n",
      " layer_normalization_64 (Lay  (None, 48)               96        \n",
      " erNormalization)                                                \n",
      "                                                                 \n",
      " dense_58 (Dense)            (None, 40)                1960      \n",
      "                                                                 \n",
      " layer_normalization_65 (Lay  (None, 40)               80        \n",
      " erNormalization)                                                \n",
      "                                                                 \n",
      " dense_59 (Dense)            (None, 32)                1312      \n",
      "                                                                 \n",
      " dense_60 (Dense)            (None, 1)                 33        \n",
      "                                                                 \n",
      "=================================================================\n",
      "Total params: 3,109,801\n",
      "Trainable params: 3,109,801\n",
      "Non-trainable params: 0\n",
      "_________________________________________________________________\n"
     ]
    }
   ],
   "source": [
    "xr_ai = gen_xr_model(lr =  1e-3, r = 1, input_shape = xr_arr[0].shape, \n",
    "              filter_size =5, fc_lst = [48,40,32], s = True)"
   ]
  },
  {
   "cell_type": "markdown",
   "id": "c0a42c35",
   "metadata": {
    "id": "c0a42c35"
   },
   "source": [
    "Now, you can train this and other models to develop a strong assistant to radiologists! \n",
    "\n",
    "Hint: the techniques in the **CIFAR** dataset can work here!"
   ]
  },
  {
   "cell_type": "code",
   "execution_count": null,
   "id": "6d45810e",
   "metadata": {
    "id": "6d45810e",
    "outputId": "ad113a64-92f7-4f13-fd6e-bbbe4c0867ba"
   },
   "outputs": [
    {
     "name": "stdout",
     "output_type": "stream",
     "text": [
      "Epoch 1/10\n",
      "29/44 [==================>...........] - ETA: 3:48 - loss: nan - accuracy: 0.3793"
     ]
    }
   ],
   "source": [
    "xr_ai.fit(\n",
    "    x=xr_arr,\n",
    "    y=diag_arr,\n",
    "    batch_size=2,\n",
    "    epochs=10)"
   ]
  },
  {
   "cell_type": "markdown",
   "id": "ef467ebd",
   "metadata": {
    "id": "c525c550"
   },
   "source": [
    "\n",
    "---"
   ]
  },
  {
   "cell_type": "markdown",
   "id": "01cec6ae",
   "metadata": {},
   "source": [
    "# Contributions & acknowledgement"
   ]
  },
  {
   "cell_type": "markdown",
   "id": "3ae5e8e6",
   "metadata": {},
   "source": [
    "Thank the following team to work on this module:\n",
    "\n",
    "- **Module Content:** David Jose Florez Rodriguez\n",
    "- **Engineering:** Amit Dixit\n",
    "- **UX/UI Design & Illustration:** Kexin Cha\n",
    "- **Video Production:** Francesca Goncalves\n",
    "- **Project Management:** Amir Bahmani, Kexin Cha"
   ]
  },
  {
   "cell_type": "markdown",
   "id": "86062d40",
   "metadata": {},
   "source": [
    "---"
   ]
  },
  {
   "cell_type": "markdown",
   "id": "e8415678",
   "metadata": {},
   "source": [
    "Copyright (c) 2022 Stanford Data Ocean (SDO)\n",
    "\n",
    "All rights reserved."
   ]
  }
 ],
 "metadata": {
  "colab": {
   "provenance": []
  },
  "kernelspec": {
   "display_name": "python3",
   "language": "python",
   "name": "python3"
  },
  "language_info": {
   "codemirror_mode": {
    "name": "ipython",
    "version": 3
   },
   "file_extension": ".py",
   "mimetype": "text/x-python",
   "name": "python",
   "nbconvert_exporter": "python",
   "pygments_lexer": "ipython3",
   "version": "3.9.4"
  }
 },
 "nbformat": 4,
 "nbformat_minor": 5
}
